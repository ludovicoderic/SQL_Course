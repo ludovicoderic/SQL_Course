{
 "cells": [
  {
   "cell_type": "markdown",
   "id": "fae80e73",
   "metadata": {
    "papermill": {
     "duration": 0.005412,
     "end_time": "2022-10-24T10:14:12.105977",
     "exception": false,
     "start_time": "2022-10-24T10:14:12.100565",
     "status": "completed"
    },
    "tags": []
   },
   "source": [
    "**This notebook is an exercise in the [Advanced SQL](https://www.kaggle.com/learn/advanced-sql) course.  You can reference the tutorial at [this link](https://www.kaggle.com/alexisbcook/analytic-functions).**\n",
    "\n",
    "---\n"
   ]
  },
  {
   "cell_type": "markdown",
   "id": "d2418bdf",
   "metadata": {
    "papermill": {
     "duration": 0.004044,
     "end_time": "2022-10-24T10:14:12.114779",
     "exception": false,
     "start_time": "2022-10-24T10:14:12.110735",
     "status": "completed"
    },
    "tags": []
   },
   "source": [
    "In the Intro to SQL micro-course, you learned how to use aggregate functions, which perform calculations based on sets of rows. In this tutorial, you'll learn how to define **analytic functions**, which also operate on a set of rows. However, unlike aggregate functions, analytic functions return a (potentially different) value for each row in the original table.\n",
    "\n",
    "Analytic functions allow us to perform complex calculations with relatively straightforward syntax. For instance, we can quickly calculate moving averages and running totals, among other quantities.\n",
    "\n",
    "### Syntax\n",
    "To understand how to write analytic functions, we'll work with a small table containing data from two different people who are training for a race. The id column identifies each runner, the date column holds the day of the training session, and time shows the time (in minutes) that the runner dedicated to training. Say we'd like to calculate a moving average of the training times for each runner, where we always take the average of the current and previous training sessions. We can do this with the following query:\n",
    "\n",
    "![](https://i.imgur.com/rehp8HM.png)\n",
    "\n",
    "All analytic functions have an **OVER** clause, which defines the sets of rows used in each calculation. The **OVER** clause has three (optional) parts:\n",
    "\n",
    "- The **PARTITION BY** clause divides the rows of the table into different groups. In the query above, we divide by id so that the calculations are separated by runner.\n",
    "- The **ORDER BY** clause defines an ordering within each partition. In the sample query, ordering by the date column ensures that earlier training sessions appear first.\n",
    "- The final clause (**ROWS BETWEEN 1 PRECEDING AND CURRENT ROW**) is known as a **window frame** clause. It identifies the set of rows used in each calculation. We can refer to this group of rows as a window. (Actually, analytic functions are sometimes referred to as **analytic window functions** or simply **window functions**!)\n",
    "\n",
    "![](https://i.imgur.com/GjiKlA7.png)\n",
    "\n",
    "### (More on) window frame clauses\n",
    "There are many ways to write window frame clauses:\n",
    "\n",
    "- **ROWS BETWEEN 1 PRECEDING AND CURRENT ROW** - the previous row and the current row.\n",
    "- **ROWS BETWEEN 3 PRECEDING AND 1 FOLLOWING** - the 3 previous rows, the current row, and the following row.\n",
    "- **ROWS BETWEEN UNBOUNDED PRECEDING AND UNBOUNDED FOLLOWING** - all rows in the partition.\n",
    "\n",
    "Of course, this is not an exhaustive list, and you can imagine that there are many more options! In the code below, you'll see some of these clauses in action.\n",
    "\n",
    "### Three types of analytic functions\n",
    "The example above uses only one of many analytic functions. BigQuery supports a wide variety of analytic functions, and we'll explore a few here. For a complete listing, you can take a look at the documentation.\n",
    "\n",
    "1) Analytic aggregate functions\n",
    "As you might recall, **AVG()** (from the example above) is an aggregate function. The **OVER** clause is what ensures that it's treated as an analytic (aggregate) function. **Aggregate functions** take all of the values within the window as input and return a single value.\n",
    "\n",
    "- **MIN()** (or **MAX()**) - Returns the minimum (or maximum) of input values\n",
    "- **AVG()** (or **SUM()**) - Returns the average (or sum) of input values\n",
    "- **COUNT()** - Returns the number of rows in the input\n",
    "\n",
    "2) Analytic navigation functions\n",
    "**Navigation functions** assign a value based on the value in a (usually) different row than the current row.\n",
    "\n",
    "- **FIRST_VALUE()** (or **LAST_VALUE()**) - Returns the first (or last) value in the input\n",
    "- **LEAD()** (and **LAG()**) - Returns the value on a subsequent (or preceding) row\n",
    "\n",
    "3) Analytic numbering functions\n",
    "Numbering functions assign integer values to each row based on the ordering.\n",
    "\n",
    "- **ROW_NUMBER()** - Returns the order in which rows appear in the input (starting with 1)\n",
    "- **RANK()** - All rows with the same value in the ordering column receive the same rank value, where the next row receives a rank value which increments by the number of rows with the previous rank value."
   ]
  },
  {
   "cell_type": "markdown",
   "id": "c12985bb",
   "metadata": {
    "papermill": {
     "duration": 0.003984,
     "end_time": "2022-10-24T10:14:12.122947",
     "exception": false,
     "start_time": "2022-10-24T10:14:12.118963",
     "status": "completed"
    },
    "tags": []
   },
   "source": [
    "# Introduction\n",
    "\n",
    "Here, you'll use window functions to answer questions about the [Chicago Taxi Trips](https://www.kaggle.com/chicago/chicago-taxi-trips-bq) dataset.\n",
    "\n",
    "Before you get started, run the code cell below to set everything up."
   ]
  },
  {
   "cell_type": "code",
   "execution_count": 1,
   "id": "ae03e4a7",
   "metadata": {
    "execution": {
     "iopub.execute_input": "2022-10-24T10:14:12.133587Z",
     "iopub.status.busy": "2022-10-24T10:14:12.133082Z",
     "iopub.status.idle": "2022-10-24T10:14:31.970139Z",
     "shell.execute_reply": "2022-10-24T10:14:31.969157Z"
    },
    "papermill": {
     "duration": 19.846055,
     "end_time": "2022-10-24T10:14:31.973192",
     "exception": false,
     "start_time": "2022-10-24T10:14:12.127137",
     "status": "completed"
    },
    "tags": []
   },
   "outputs": [
    {
     "name": "stdout",
     "output_type": "stream",
     "text": [
      "Using Kaggle's public dataset BigQuery integration.\n"
     ]
    },
    {
     "name": "stderr",
     "output_type": "stream",
     "text": [
      "/opt/conda/lib/python3.7/site-packages/google/cloud/bigquery/client.py:440: UserWarning: Cannot create BigQuery Storage client, the dependency google-cloud-bigquery-storage is not installed.\n",
      "  \"Cannot create BigQuery Storage client, the dependency \"\n"
     ]
    },
    {
     "name": "stdout",
     "output_type": "stream",
     "text": [
      "Setup Complete\n"
     ]
    }
   ],
   "source": [
    "# Set up feedback system\n",
    "from learntools.core import binder\n",
    "binder.bind(globals())\n",
    "from learntools.sql_advanced.ex2 import *\n",
    "print(\"Setup Complete\")"
   ]
  },
  {
   "cell_type": "markdown",
   "id": "9153b991",
   "metadata": {
    "papermill": {
     "duration": 0.004387,
     "end_time": "2022-10-24T10:14:31.982535",
     "exception": false,
     "start_time": "2022-10-24T10:14:31.978148",
     "status": "completed"
    },
    "tags": []
   },
   "source": [
    "The following code cell fetches the `taxi_trips` table from the `chicago_taxi_trips` dataset. We also preview the first five rows of the table.  You'll use the table to answer the questions below."
   ]
  },
  {
   "cell_type": "code",
   "execution_count": 2,
   "id": "1bb24d01",
   "metadata": {
    "execution": {
     "iopub.execute_input": "2022-10-24T10:14:31.993920Z",
     "iopub.status.busy": "2022-10-24T10:14:31.993526Z",
     "iopub.status.idle": "2022-10-24T10:14:33.562225Z",
     "shell.execute_reply": "2022-10-24T10:14:33.561035Z"
    },
    "papermill": {
     "duration": 1.577454,
     "end_time": "2022-10-24T10:14:33.564988",
     "exception": false,
     "start_time": "2022-10-24T10:14:31.987534",
     "status": "completed"
    },
    "tags": []
   },
   "outputs": [
    {
     "name": "stdout",
     "output_type": "stream",
     "text": [
      "Using Kaggle's public dataset BigQuery integration.\n"
     ]
    },
    {
     "name": "stderr",
     "output_type": "stream",
     "text": [
      "/opt/conda/lib/python3.7/site-packages/ipykernel_launcher.py:19: UserWarning: Cannot use bqstorage_client if max_results is set, reverting to fetching data with the tabledata.list endpoint.\n"
     ]
    },
    {
     "data": {
      "text/html": [
       "<div>\n",
       "<style scoped>\n",
       "    .dataframe tbody tr th:only-of-type {\n",
       "        vertical-align: middle;\n",
       "    }\n",
       "\n",
       "    .dataframe tbody tr th {\n",
       "        vertical-align: top;\n",
       "    }\n",
       "\n",
       "    .dataframe thead th {\n",
       "        text-align: right;\n",
       "    }\n",
       "</style>\n",
       "<table border=\"1\" class=\"dataframe\">\n",
       "  <thead>\n",
       "    <tr style=\"text-align: right;\">\n",
       "      <th></th>\n",
       "      <th>unique_key</th>\n",
       "      <th>taxi_id</th>\n",
       "      <th>trip_start_timestamp</th>\n",
       "      <th>trip_end_timestamp</th>\n",
       "      <th>trip_seconds</th>\n",
       "      <th>trip_miles</th>\n",
       "      <th>pickup_census_tract</th>\n",
       "      <th>dropoff_census_tract</th>\n",
       "      <th>pickup_community_area</th>\n",
       "      <th>dropoff_community_area</th>\n",
       "      <th>...</th>\n",
       "      <th>extras</th>\n",
       "      <th>trip_total</th>\n",
       "      <th>payment_type</th>\n",
       "      <th>company</th>\n",
       "      <th>pickup_latitude</th>\n",
       "      <th>pickup_longitude</th>\n",
       "      <th>pickup_location</th>\n",
       "      <th>dropoff_latitude</th>\n",
       "      <th>dropoff_longitude</th>\n",
       "      <th>dropoff_location</th>\n",
       "    </tr>\n",
       "  </thead>\n",
       "  <tbody>\n",
       "    <tr>\n",
       "      <th>0</th>\n",
       "      <td>a93783ff83730b096673d6496e0a73817616b1e0</td>\n",
       "      <td>7602478d4ed02f3137d6f55c94cc89d74735b5482ec7d0...</td>\n",
       "      <td>2018-03-31 21:30:00+00:00</td>\n",
       "      <td>2018-03-31 21:30:00+00:00</td>\n",
       "      <td>622</td>\n",
       "      <td>3.7</td>\n",
       "      <td>NaN</td>\n",
       "      <td>NaN</td>\n",
       "      <td>NaN</td>\n",
       "      <td>NaN</td>\n",
       "      <td>...</td>\n",
       "      <td>0.0</td>\n",
       "      <td>10.00</td>\n",
       "      <td>Cash</td>\n",
       "      <td>303 Taxi</td>\n",
       "      <td>NaN</td>\n",
       "      <td>NaN</td>\n",
       "      <td>None</td>\n",
       "      <td>NaN</td>\n",
       "      <td>NaN</td>\n",
       "      <td>None</td>\n",
       "    </tr>\n",
       "    <tr>\n",
       "      <th>1</th>\n",
       "      <td>106194b2c504449060b90988e8cfa7f1c9cadc21</td>\n",
       "      <td>7602478d4ed02f3137d6f55c94cc89d74735b5482ec7d0...</td>\n",
       "      <td>2018-04-01 00:30:00+00:00</td>\n",
       "      <td>2018-04-01 00:30:00+00:00</td>\n",
       "      <td>822</td>\n",
       "      <td>4.9</td>\n",
       "      <td>NaN</td>\n",
       "      <td>NaN</td>\n",
       "      <td>NaN</td>\n",
       "      <td>NaN</td>\n",
       "      <td>...</td>\n",
       "      <td>0.0</td>\n",
       "      <td>12.60</td>\n",
       "      <td>Cash</td>\n",
       "      <td>303 Taxi</td>\n",
       "      <td>NaN</td>\n",
       "      <td>NaN</td>\n",
       "      <td>None</td>\n",
       "      <td>NaN</td>\n",
       "      <td>NaN</td>\n",
       "      <td>None</td>\n",
       "    </tr>\n",
       "    <tr>\n",
       "      <th>2</th>\n",
       "      <td>78a6796eefbfb9bd9c8df0471285cbdda0a5fe83</td>\n",
       "      <td>7602478d4ed02f3137d6f55c94cc89d74735b5482ec7d0...</td>\n",
       "      <td>2018-04-01 02:45:00+00:00</td>\n",
       "      <td>2018-04-01 03:00:00+00:00</td>\n",
       "      <td>935</td>\n",
       "      <td>9.5</td>\n",
       "      <td>NaN</td>\n",
       "      <td>NaN</td>\n",
       "      <td>NaN</td>\n",
       "      <td>NaN</td>\n",
       "      <td>...</td>\n",
       "      <td>0.0</td>\n",
       "      <td>25.00</td>\n",
       "      <td>Cash</td>\n",
       "      <td>303 Taxi</td>\n",
       "      <td>NaN</td>\n",
       "      <td>NaN</td>\n",
       "      <td>None</td>\n",
       "      <td>NaN</td>\n",
       "      <td>NaN</td>\n",
       "      <td>None</td>\n",
       "    </tr>\n",
       "    <tr>\n",
       "      <th>3</th>\n",
       "      <td>9a9bb9626dd403973ec6e5763a95d22a417f2425</td>\n",
       "      <td>7602478d4ed02f3137d6f55c94cc89d74735b5482ec7d0...</td>\n",
       "      <td>2018-04-01 12:45:00+00:00</td>\n",
       "      <td>2018-04-01 12:45:00+00:00</td>\n",
       "      <td>10</td>\n",
       "      <td>0.1</td>\n",
       "      <td>NaN</td>\n",
       "      <td>NaN</td>\n",
       "      <td>NaN</td>\n",
       "      <td>NaN</td>\n",
       "      <td>...</td>\n",
       "      <td>0.0</td>\n",
       "      <td>2.20</td>\n",
       "      <td>Cash</td>\n",
       "      <td>303 Taxi</td>\n",
       "      <td>NaN</td>\n",
       "      <td>NaN</td>\n",
       "      <td>None</td>\n",
       "      <td>NaN</td>\n",
       "      <td>NaN</td>\n",
       "      <td>None</td>\n",
       "    </tr>\n",
       "    <tr>\n",
       "      <th>4</th>\n",
       "      <td>8ae6bf9ce9aae43900a468259c611c8c22dfd9a9</td>\n",
       "      <td>ddbfdb4b546c3b981dee3345edaed1bd5ad14557d682cf...</td>\n",
       "      <td>2018-03-25 06:30:00+00:00</td>\n",
       "      <td>2018-03-25 06:45:00+00:00</td>\n",
       "      <td>302</td>\n",
       "      <td>3.3</td>\n",
       "      <td>NaN</td>\n",
       "      <td>NaN</td>\n",
       "      <td>NaN</td>\n",
       "      <td>NaN</td>\n",
       "      <td>...</td>\n",
       "      <td>0.0</td>\n",
       "      <td>0.01</td>\n",
       "      <td>Cash</td>\n",
       "      <td>303 Taxi</td>\n",
       "      <td>NaN</td>\n",
       "      <td>NaN</td>\n",
       "      <td>None</td>\n",
       "      <td>NaN</td>\n",
       "      <td>NaN</td>\n",
       "      <td>None</td>\n",
       "    </tr>\n",
       "  </tbody>\n",
       "</table>\n",
       "<p>5 rows × 23 columns</p>\n",
       "</div>"
      ],
      "text/plain": [
       "                                 unique_key  \\\n",
       "0  a93783ff83730b096673d6496e0a73817616b1e0   \n",
       "1  106194b2c504449060b90988e8cfa7f1c9cadc21   \n",
       "2  78a6796eefbfb9bd9c8df0471285cbdda0a5fe83   \n",
       "3  9a9bb9626dd403973ec6e5763a95d22a417f2425   \n",
       "4  8ae6bf9ce9aae43900a468259c611c8c22dfd9a9   \n",
       "\n",
       "                                             taxi_id  \\\n",
       "0  7602478d4ed02f3137d6f55c94cc89d74735b5482ec7d0...   \n",
       "1  7602478d4ed02f3137d6f55c94cc89d74735b5482ec7d0...   \n",
       "2  7602478d4ed02f3137d6f55c94cc89d74735b5482ec7d0...   \n",
       "3  7602478d4ed02f3137d6f55c94cc89d74735b5482ec7d0...   \n",
       "4  ddbfdb4b546c3b981dee3345edaed1bd5ad14557d682cf...   \n",
       "\n",
       "       trip_start_timestamp        trip_end_timestamp  trip_seconds  \\\n",
       "0 2018-03-31 21:30:00+00:00 2018-03-31 21:30:00+00:00           622   \n",
       "1 2018-04-01 00:30:00+00:00 2018-04-01 00:30:00+00:00           822   \n",
       "2 2018-04-01 02:45:00+00:00 2018-04-01 03:00:00+00:00           935   \n",
       "3 2018-04-01 12:45:00+00:00 2018-04-01 12:45:00+00:00            10   \n",
       "4 2018-03-25 06:30:00+00:00 2018-03-25 06:45:00+00:00           302   \n",
       "\n",
       "   trip_miles  pickup_census_tract  dropoff_census_tract  \\\n",
       "0         3.7                  NaN                   NaN   \n",
       "1         4.9                  NaN                   NaN   \n",
       "2         9.5                  NaN                   NaN   \n",
       "3         0.1                  NaN                   NaN   \n",
       "4         3.3                  NaN                   NaN   \n",
       "\n",
       "   pickup_community_area  dropoff_community_area  ...  extras  trip_total  \\\n",
       "0                    NaN                     NaN  ...     0.0       10.00   \n",
       "1                    NaN                     NaN  ...     0.0       12.60   \n",
       "2                    NaN                     NaN  ...     0.0       25.00   \n",
       "3                    NaN                     NaN  ...     0.0        2.20   \n",
       "4                    NaN                     NaN  ...     0.0        0.01   \n",
       "\n",
       "   payment_type   company  pickup_latitude pickup_longitude pickup_location  \\\n",
       "0          Cash  303 Taxi              NaN              NaN            None   \n",
       "1          Cash  303 Taxi              NaN              NaN            None   \n",
       "2          Cash  303 Taxi              NaN              NaN            None   \n",
       "3          Cash  303 Taxi              NaN              NaN            None   \n",
       "4          Cash  303 Taxi              NaN              NaN            None   \n",
       "\n",
       "   dropoff_latitude  dropoff_longitude dropoff_location  \n",
       "0               NaN                NaN             None  \n",
       "1               NaN                NaN             None  \n",
       "2               NaN                NaN             None  \n",
       "3               NaN                NaN             None  \n",
       "4               NaN                NaN             None  \n",
       "\n",
       "[5 rows x 23 columns]"
      ]
     },
     "execution_count": 2,
     "metadata": {},
     "output_type": "execute_result"
    }
   ],
   "source": [
    "from google.cloud import bigquery\n",
    "\n",
    "# Create a \"Client\" object\n",
    "client = bigquery.Client()\n",
    "\n",
    "# Construct a reference to the \"chicago_taxi_trips\" dataset\n",
    "dataset_ref = client.dataset(\"chicago_taxi_trips\", project=\"bigquery-public-data\")\n",
    "\n",
    "# API request - fetch the dataset\n",
    "dataset = client.get_dataset(dataset_ref)\n",
    "\n",
    "# Construct a reference to the \"taxi_trips\" table\n",
    "table_ref = dataset_ref.table(\"taxi_trips\")\n",
    "\n",
    "# API request - fetch the table\n",
    "table = client.get_table(table_ref)\n",
    "\n",
    "# Preview the first five lines of the table\n",
    "client.list_rows(table, max_results=5).to_dataframe()"
   ]
  },
  {
   "cell_type": "markdown",
   "id": "2d643361",
   "metadata": {
    "papermill": {
     "duration": 0.004863,
     "end_time": "2022-10-24T10:14:33.575255",
     "exception": false,
     "start_time": "2022-10-24T10:14:33.570392",
     "status": "completed"
    },
    "tags": []
   },
   "source": [
    "# Exercises\n",
    "\n",
    "### 1) How can you predict the demand for taxis?\n",
    "\n",
    "Say you work for a taxi company, and you're interested in predicting the demand for taxis.  Towards this goal, you'd like to create a plot that shows a rolling average of the daily number of taxi trips.  Amend the (partial) query below to return a DataFrame with two columns:\n",
    "- `trip_date` - contains one entry for each date from January 1, 2016, to December 31, 2017.\n",
    "- `avg_num_trips` - shows the average number of daily trips, calculated over a window including the value for the current date, along with the values for the preceding 15 days and the following 15 days, as long as the days fit within the two-year time frame.  For instance, when calculating the value in this column for January 5, 2016, the window will include the number of trips for the preceding 4 days, the current date, and the following 15 days.\n",
    "\n",
    "This query is partially completed for you, and you need only write the part that calculates the `avg_num_trips` column.  Note that this query uses a common table expression (CTE); if you need to review how to use CTEs, you're encouraged to check out [this tutorial](https://www.kaggle.com/dansbecker/as-with) in the [Intro to SQL](https://www.kaggle.com/learn/intro-to-sql) micro-course."
   ]
  },
  {
   "cell_type": "code",
   "execution_count": 3,
   "id": "4ee374d9",
   "metadata": {
    "execution": {
     "iopub.execute_input": "2022-10-24T10:14:33.587297Z",
     "iopub.status.busy": "2022-10-24T10:14:33.586582Z",
     "iopub.status.idle": "2022-10-24T10:14:35.126907Z",
     "shell.execute_reply": "2022-10-24T10:14:35.125750Z"
    },
    "papermill": {
     "duration": 1.548879,
     "end_time": "2022-10-24T10:14:35.129001",
     "exception": false,
     "start_time": "2022-10-24T10:14:33.580122",
     "status": "completed"
    },
    "tags": []
   },
   "outputs": [
    {
     "name": "stderr",
     "output_type": "stream",
     "text": [
      "/opt/conda/lib/python3.7/site-packages/google/cloud/bigquery/client.py:440: UserWarning: Cannot create BigQuery Storage client, the dependency google-cloud-bigquery-storage is not installed.\n",
      "  \"Cannot create BigQuery Storage client, the dependency \"\n"
     ]
    },
    {
     "data": {
      "text/html": [
       "<div>\n",
       "<style scoped>\n",
       "    .dataframe tbody tr th:only-of-type {\n",
       "        vertical-align: middle;\n",
       "    }\n",
       "\n",
       "    .dataframe tbody tr th {\n",
       "        vertical-align: top;\n",
       "    }\n",
       "\n",
       "    .dataframe thead th {\n",
       "        text-align: right;\n",
       "    }\n",
       "</style>\n",
       "<table border=\"1\" class=\"dataframe\">\n",
       "  <thead>\n",
       "    <tr style=\"text-align: right;\">\n",
       "      <th></th>\n",
       "      <th>trip_date</th>\n",
       "      <th>avg_num_trips</th>\n",
       "    </tr>\n",
       "  </thead>\n",
       "  <tbody>\n",
       "    <tr>\n",
       "      <th>0</th>\n",
       "      <td>2016-01-08</td>\n",
       "      <td>81694.043478</td>\n",
       "    </tr>\n",
       "    <tr>\n",
       "      <th>1</th>\n",
       "      <td>2016-05-13</td>\n",
       "      <td>95071.000000</td>\n",
       "    </tr>\n",
       "    <tr>\n",
       "      <th>2</th>\n",
       "      <td>2016-01-19</td>\n",
       "      <td>81461.870968</td>\n",
       "    </tr>\n",
       "    <tr>\n",
       "      <th>3</th>\n",
       "      <td>2016-11-17</td>\n",
       "      <td>81056.806452</td>\n",
       "    </tr>\n",
       "    <tr>\n",
       "      <th>4</th>\n",
       "      <td>2016-12-03</td>\n",
       "      <td>80221.258065</td>\n",
       "    </tr>\n",
       "  </tbody>\n",
       "</table>\n",
       "</div>"
      ],
      "text/plain": [
       "    trip_date  avg_num_trips\n",
       "0  2016-01-08   81694.043478\n",
       "1  2016-05-13   95071.000000\n",
       "2  2016-01-19   81461.870968\n",
       "3  2016-11-17   81056.806452\n",
       "4  2016-12-03   80221.258065"
      ]
     },
     "metadata": {},
     "output_type": "display_data"
    },
    {
     "data": {
      "application/javascript": [
       "parent.postMessage({\"jupyterEvent\": \"custom.exercise_interaction\", \"data\": {\"outcomeType\": 1, \"valueTowardsCompletion\": 0.3333333333333333, \"interactionType\": 1, \"questionType\": 2, \"questionId\": \"1_TaxiDemand\", \"learnToolsVersion\": \"0.3.4\", \"failureMessage\": \"\", \"exceptionClass\": \"\", \"trace\": \"\"}}, \"*\")"
      ],
      "text/plain": [
       "<IPython.core.display.Javascript object>"
      ]
     },
     "metadata": {},
     "output_type": "display_data"
    },
    {
     "data": {
      "text/markdown": [
       "<span style=\"color:#33cc33\">Correct</span>"
      ],
      "text/plain": [
       "Correct"
      ]
     },
     "metadata": {},
     "output_type": "display_data"
    }
   ],
   "source": [
    "# Fill in the blank below\n",
    "avg_num_trips_query = \"\"\"\n",
    "                      WITH trips_by_day AS\n",
    "                      (\n",
    "                      SELECT DATE(trip_start_timestamp) AS trip_date,\n",
    "                          COUNT(*) as num_trips\n",
    "                      FROM `bigquery-public-data.chicago_taxi_trips.taxi_trips`\n",
    "                      WHERE trip_start_timestamp >= '2016-01-01' AND trip_start_timestamp < '2018-01-01'\n",
    "                      GROUP BY trip_date\n",
    "                      ORDER BY trip_date\n",
    "                      )\n",
    "                      SELECT trip_date,\n",
    "                          AVG(num_trips)\n",
    "                          OVER (\n",
    "                               ORDER BY trip_date\n",
    "                               ROWS BETWEEN 15 PRECEDING AND 15 FOLLOWING\n",
    "                               ) AS avg_num_trips\n",
    "                      FROM trips_by_day\n",
    "                      \"\"\"\n",
    "\n",
    "# Check your answer\n",
    "q_1.check()"
   ]
  },
  {
   "cell_type": "code",
   "execution_count": 4,
   "id": "389e227d",
   "metadata": {
    "execution": {
     "iopub.execute_input": "2022-10-24T10:14:35.141751Z",
     "iopub.status.busy": "2022-10-24T10:14:35.141376Z",
     "iopub.status.idle": "2022-10-24T10:14:35.145476Z",
     "shell.execute_reply": "2022-10-24T10:14:35.144289Z"
    },
    "papermill": {
     "duration": 0.013296,
     "end_time": "2022-10-24T10:14:35.147876",
     "exception": false,
     "start_time": "2022-10-24T10:14:35.134580",
     "status": "completed"
    },
    "tags": []
   },
   "outputs": [],
   "source": [
    "# # Lines below will give you a hint or solution code\n",
    "# q_1.hint()\n",
    "# q_1.solution()"
   ]
  },
  {
   "cell_type": "markdown",
   "id": "276caadf",
   "metadata": {
    "papermill": {
     "duration": 0.005224,
     "end_time": "2022-10-24T10:14:35.158624",
     "exception": false,
     "start_time": "2022-10-24T10:14:35.153400",
     "status": "completed"
    },
    "tags": []
   },
   "source": [
    "### 2) Can you separate and order trips by community area?\n",
    "\n",
    "The query below returns a DataFrame with three columns from the table: `pickup_community_area`, `trip_start_timestamp`, and `trip_end_timestamp`.  \n",
    "\n",
    "Amend the query to return an additional column called `trip_number` which shows the order in which the trips were taken from their respective community areas.  So, the first trip of the day originating from community area 1 should receive a value of 1; the second trip of the day from the same area should receive a value of 2.  Likewise, the first trip of the day from community area 2 should receive a value of 1, and so on.\n",
    "\n",
    "Note that there are many numbering functions that can be used to solve this problem (depending on how you want to deal with trips that started at the same time from the same community area); to answer this question, please use the **RANK()** function."
   ]
  },
  {
   "cell_type": "code",
   "execution_count": 5,
   "id": "0adbd17e",
   "metadata": {
    "execution": {
     "iopub.execute_input": "2022-10-24T10:14:35.171563Z",
     "iopub.status.busy": "2022-10-24T10:14:35.171135Z",
     "iopub.status.idle": "2022-10-24T10:14:39.889021Z",
     "shell.execute_reply": "2022-10-24T10:14:39.888285Z"
    },
    "papermill": {
     "duration": 4.727012,
     "end_time": "2022-10-24T10:14:39.891193",
     "exception": false,
     "start_time": "2022-10-24T10:14:35.164181",
     "status": "completed"
    },
    "tags": []
   },
   "outputs": [
    {
     "name": "stderr",
     "output_type": "stream",
     "text": [
      "/opt/conda/lib/python3.7/site-packages/google/cloud/bigquery/client.py:440: UserWarning: Cannot create BigQuery Storage client, the dependency google-cloud-bigquery-storage is not installed.\n",
      "  \"Cannot create BigQuery Storage client, the dependency \"\n"
     ]
    },
    {
     "data": {
      "text/html": [
       "<div>\n",
       "<style scoped>\n",
       "    .dataframe tbody tr th:only-of-type {\n",
       "        vertical-align: middle;\n",
       "    }\n",
       "\n",
       "    .dataframe tbody tr th {\n",
       "        vertical-align: top;\n",
       "    }\n",
       "\n",
       "    .dataframe thead th {\n",
       "        text-align: right;\n",
       "    }\n",
       "</style>\n",
       "<table border=\"1\" class=\"dataframe\">\n",
       "  <thead>\n",
       "    <tr style=\"text-align: right;\">\n",
       "      <th></th>\n",
       "      <th>pickup_community_area</th>\n",
       "      <th>trip_start_timestamp</th>\n",
       "      <th>trip_end_timestamp</th>\n",
       "      <th>trip_number</th>\n",
       "    </tr>\n",
       "  </thead>\n",
       "  <tbody>\n",
       "    <tr>\n",
       "      <th>0</th>\n",
       "      <td>39.0</td>\n",
       "      <td>2017-05-01 01:15:00+00:00</td>\n",
       "      <td>2017-05-01 01:30:00+00:00</td>\n",
       "      <td>1</td>\n",
       "    </tr>\n",
       "    <tr>\n",
       "      <th>1</th>\n",
       "      <td>39.0</td>\n",
       "      <td>2017-05-01 02:15:00+00:00</td>\n",
       "      <td>2017-05-01 02:45:00+00:00</td>\n",
       "      <td>2</td>\n",
       "    </tr>\n",
       "    <tr>\n",
       "      <th>2</th>\n",
       "      <td>39.0</td>\n",
       "      <td>2017-05-01 05:15:00+00:00</td>\n",
       "      <td>2017-05-01 05:30:00+00:00</td>\n",
       "      <td>3</td>\n",
       "    </tr>\n",
       "    <tr>\n",
       "      <th>3</th>\n",
       "      <td>39.0</td>\n",
       "      <td>2017-05-01 05:45:00+00:00</td>\n",
       "      <td>2017-05-01 06:15:00+00:00</td>\n",
       "      <td>4</td>\n",
       "    </tr>\n",
       "    <tr>\n",
       "      <th>4</th>\n",
       "      <td>39.0</td>\n",
       "      <td>2017-05-01 06:45:00+00:00</td>\n",
       "      <td>2017-05-01 07:00:00+00:00</td>\n",
       "      <td>5</td>\n",
       "    </tr>\n",
       "  </tbody>\n",
       "</table>\n",
       "</div>"
      ],
      "text/plain": [
       "   pickup_community_area      trip_start_timestamp        trip_end_timestamp  \\\n",
       "0                   39.0 2017-05-01 01:15:00+00:00 2017-05-01 01:30:00+00:00   \n",
       "1                   39.0 2017-05-01 02:15:00+00:00 2017-05-01 02:45:00+00:00   \n",
       "2                   39.0 2017-05-01 05:15:00+00:00 2017-05-01 05:30:00+00:00   \n",
       "3                   39.0 2017-05-01 05:45:00+00:00 2017-05-01 06:15:00+00:00   \n",
       "4                   39.0 2017-05-01 06:45:00+00:00 2017-05-01 07:00:00+00:00   \n",
       "\n",
       "   trip_number  \n",
       "0            1  \n",
       "1            2  \n",
       "2            3  \n",
       "3            4  \n",
       "4            5  "
      ]
     },
     "metadata": {},
     "output_type": "display_data"
    },
    {
     "data": {
      "application/javascript": [
       "parent.postMessage({\"jupyterEvent\": \"custom.exercise_interaction\", \"data\": {\"outcomeType\": 1, \"valueTowardsCompletion\": 0.3333333333333333, \"interactionType\": 1, \"questionType\": 2, \"questionId\": \"2_CommunityArea\", \"learnToolsVersion\": \"0.3.4\", \"failureMessage\": \"\", \"exceptionClass\": \"\", \"trace\": \"\"}}, \"*\")"
      ],
      "text/plain": [
       "<IPython.core.display.Javascript object>"
      ]
     },
     "metadata": {},
     "output_type": "display_data"
    },
    {
     "data": {
      "text/markdown": [
       "<span style=\"color:#33cc33\">Correct</span>"
      ],
      "text/plain": [
       "Correct"
      ]
     },
     "metadata": {},
     "output_type": "display_data"
    }
   ],
   "source": [
    "# Amend the query below\n",
    "trip_number_query = \"\"\"\n",
    "                    SELECT pickup_community_area,\n",
    "                        trip_start_timestamp,\n",
    "                        trip_end_timestamp,\n",
    "                        RANK() \n",
    "                            OVER(\n",
    "                                PARTITION BY pickup_community_area\n",
    "                                ORDER BY trip_start_timestamp\n",
    "                                ) AS trip_number\n",
    "                    FROM `bigquery-public-data.chicago_taxi_trips.taxi_trips`\n",
    "                    WHERE DATE(trip_start_timestamp) = '2017-05-01'\n",
    "                    \"\"\"\n",
    "\n",
    "# Check your answer\n",
    "q_2.check()"
   ]
  },
  {
   "cell_type": "code",
   "execution_count": 6,
   "id": "12d37357",
   "metadata": {
    "execution": {
     "iopub.execute_input": "2022-10-24T10:14:39.905814Z",
     "iopub.status.busy": "2022-10-24T10:14:39.904700Z",
     "iopub.status.idle": "2022-10-24T10:14:39.909175Z",
     "shell.execute_reply": "2022-10-24T10:14:39.908386Z"
    },
    "papermill": {
     "duration": 0.013995,
     "end_time": "2022-10-24T10:14:39.911306",
     "exception": false,
     "start_time": "2022-10-24T10:14:39.897311",
     "status": "completed"
    },
    "tags": []
   },
   "outputs": [],
   "source": [
    "# Lines below will give you a hint or solution code\n",
    "# q_2.hint()\n",
    "# q_2.solution()"
   ]
  },
  {
   "cell_type": "markdown",
   "id": "693beb9a",
   "metadata": {
    "papermill": {
     "duration": 0.00565,
     "end_time": "2022-10-24T10:14:39.922902",
     "exception": false,
     "start_time": "2022-10-24T10:14:39.917252",
     "status": "completed"
    },
    "tags": []
   },
   "source": [
    "### 3) How much time elapses between trips?\n",
    "\n",
    "The (partial) query in the code cell below shows, for each trip in the selected time frame, the corresponding `taxi_id`, `trip_start_timestamp`, and `trip_end_timestamp`. \n",
    "\n",
    "Your task in this exercise is to edit the query to include an additional `prev_break` column that shows the length of the break (in minutes) that the driver had before each trip started (this corresponds to the time between `trip_start_timestamp` of the current trip and `trip_end_timestamp` of the previous trip).  Partition the calculation by `taxi_id`, and order the results within each partition by `trip_start_timestamp`.\n",
    "\n",
    "Some sample results are shown below, where all rows correspond to the same driver (or `taxi_id`).  Take the time now to make sure that the values in the `prev_break` column make sense to you!\n",
    "\n",
    "![first_commands](https://i.imgur.com/qjvQzg8.png)\n",
    "\n",
    "Note that the first trip of the day for each driver should have a value of **NaN** (not a number) in the `prev_break` column."
   ]
  },
  {
   "cell_type": "code",
   "execution_count": 7,
   "id": "95ed08cf",
   "metadata": {
    "execution": {
     "iopub.execute_input": "2022-10-24T10:14:39.938089Z",
     "iopub.status.busy": "2022-10-24T10:14:39.937300Z",
     "iopub.status.idle": "2022-10-24T10:14:53.706284Z",
     "shell.execute_reply": "2022-10-24T10:14:53.705120Z"
    },
    "papermill": {
     "duration": 13.779057,
     "end_time": "2022-10-24T10:14:53.708939",
     "exception": false,
     "start_time": "2022-10-24T10:14:39.929882",
     "status": "completed"
    },
    "tags": []
   },
   "outputs": [
    {
     "name": "stderr",
     "output_type": "stream",
     "text": [
      "/opt/conda/lib/python3.7/site-packages/google/cloud/bigquery/client.py:440: UserWarning: Cannot create BigQuery Storage client, the dependency google-cloud-bigquery-storage is not installed.\n",
      "  \"Cannot create BigQuery Storage client, the dependency \"\n"
     ]
    },
    {
     "data": {
      "text/html": [
       "<div>\n",
       "<style scoped>\n",
       "    .dataframe tbody tr th:only-of-type {\n",
       "        vertical-align: middle;\n",
       "    }\n",
       "\n",
       "    .dataframe tbody tr th {\n",
       "        vertical-align: top;\n",
       "    }\n",
       "\n",
       "    .dataframe thead th {\n",
       "        text-align: right;\n",
       "    }\n",
       "</style>\n",
       "<table border=\"1\" class=\"dataframe\">\n",
       "  <thead>\n",
       "    <tr style=\"text-align: right;\">\n",
       "      <th></th>\n",
       "      <th>taxi_id</th>\n",
       "      <th>trip_start_timestamp</th>\n",
       "      <th>trip_end_timestamp</th>\n",
       "      <th>prev_break</th>\n",
       "    </tr>\n",
       "  </thead>\n",
       "  <tbody>\n",
       "    <tr>\n",
       "      <th>0</th>\n",
       "      <td>1b7aef0344f45914e7942efad05553934fe222c880a1cb...</td>\n",
       "      <td>2017-05-01 04:45:00+00:00</td>\n",
       "      <td>2017-05-01 05:00:00+00:00</td>\n",
       "      <td>NaN</td>\n",
       "    </tr>\n",
       "    <tr>\n",
       "      <th>1</th>\n",
       "      <td>1be1407efca4ff6ac787c8794df57e8eeac031eaf08fca...</td>\n",
       "      <td>2017-05-01 01:15:00+00:00</td>\n",
       "      <td>2017-05-01 01:15:00+00:00</td>\n",
       "      <td>NaN</td>\n",
       "    </tr>\n",
       "    <tr>\n",
       "      <th>2</th>\n",
       "      <td>1e5b69c83640bd5225fb3ccc33bc989b859f3e4cdb59f6...</td>\n",
       "      <td>2017-05-01 23:45:00+00:00</td>\n",
       "      <td>2017-05-02 00:00:00+00:00</td>\n",
       "      <td>150.0</td>\n",
       "    </tr>\n",
       "    <tr>\n",
       "      <th>3</th>\n",
       "      <td>24380d3a358aef97432d7b362fe55415819da221fcd800...</td>\n",
       "      <td>2017-05-01 00:00:00+00:00</td>\n",
       "      <td>2017-05-01 00:30:00+00:00</td>\n",
       "      <td>NaN</td>\n",
       "    </tr>\n",
       "    <tr>\n",
       "      <th>4</th>\n",
       "      <td>24380d3a358aef97432d7b362fe55415819da221fcd800...</td>\n",
       "      <td>2017-05-01 00:45:00+00:00</td>\n",
       "      <td>2017-05-01 00:45:00+00:00</td>\n",
       "      <td>15.0</td>\n",
       "    </tr>\n",
       "  </tbody>\n",
       "</table>\n",
       "</div>"
      ],
      "text/plain": [
       "                                             taxi_id  \\\n",
       "0  1b7aef0344f45914e7942efad05553934fe222c880a1cb...   \n",
       "1  1be1407efca4ff6ac787c8794df57e8eeac031eaf08fca...   \n",
       "2  1e5b69c83640bd5225fb3ccc33bc989b859f3e4cdb59f6...   \n",
       "3  24380d3a358aef97432d7b362fe55415819da221fcd800...   \n",
       "4  24380d3a358aef97432d7b362fe55415819da221fcd800...   \n",
       "\n",
       "       trip_start_timestamp        trip_end_timestamp  prev_break  \n",
       "0 2017-05-01 04:45:00+00:00 2017-05-01 05:00:00+00:00         NaN  \n",
       "1 2017-05-01 01:15:00+00:00 2017-05-01 01:15:00+00:00         NaN  \n",
       "2 2017-05-01 23:45:00+00:00 2017-05-02 00:00:00+00:00       150.0  \n",
       "3 2017-05-01 00:00:00+00:00 2017-05-01 00:30:00+00:00         NaN  \n",
       "4 2017-05-01 00:45:00+00:00 2017-05-01 00:45:00+00:00        15.0  "
      ]
     },
     "metadata": {},
     "output_type": "display_data"
    },
    {
     "data": {
      "application/javascript": [
       "parent.postMessage({\"jupyterEvent\": \"custom.exercise_interaction\", \"data\": {\"outcomeType\": 1, \"valueTowardsCompletion\": 0.3333333333333333, \"interactionType\": 1, \"questionType\": 2, \"questionId\": \"3_BreakTime\", \"learnToolsVersion\": \"0.3.4\", \"failureMessage\": \"\", \"exceptionClass\": \"\", \"trace\": \"\"}}, \"*\")"
      ],
      "text/plain": [
       "<IPython.core.display.Javascript object>"
      ]
     },
     "metadata": {},
     "output_type": "display_data"
    },
    {
     "data": {
      "text/markdown": [
       "<span style=\"color:#33cc33\">Correct</span>"
      ],
      "text/plain": [
       "Correct"
      ]
     },
     "metadata": {},
     "output_type": "display_data"
    }
   ],
   "source": [
    "# Fill in the blanks below\n",
    "break_time_query = \"\"\"\n",
    "                   SELECT taxi_id,\n",
    "                       trip_start_timestamp,\n",
    "                       trip_end_timestamp,\n",
    "                       TIMESTAMP_DIFF(\n",
    "                           trip_start_timestamp, \n",
    "                           LAG(trip_end_timestamp, 1) \n",
    "                               OVER (\n",
    "                                    PARTITION BY taxi_id \n",
    "                                    ORDER BY trip_start_timestamp), \n",
    "                           MINUTE) as prev_break\n",
    "                   FROM `bigquery-public-data.chicago_taxi_trips.taxi_trips`\n",
    "                   WHERE DATE(trip_start_timestamp) = '2017-05-01' \n",
    "                   \"\"\"\n",
    "# Check your answer\n",
    "q_3.check()"
   ]
  },
  {
   "cell_type": "code",
   "execution_count": 8,
   "id": "e75652d7",
   "metadata": {
    "execution": {
     "iopub.execute_input": "2022-10-24T10:14:53.723584Z",
     "iopub.status.busy": "2022-10-24T10:14:53.723153Z",
     "iopub.status.idle": "2022-10-24T10:14:53.727693Z",
     "shell.execute_reply": "2022-10-24T10:14:53.726544Z"
    },
    "papermill": {
     "duration": 0.014546,
     "end_time": "2022-10-24T10:14:53.729993",
     "exception": false,
     "start_time": "2022-10-24T10:14:53.715447",
     "status": "completed"
    },
    "tags": []
   },
   "outputs": [],
   "source": [
    "# Lines below will give you a hint or solution code\n",
    "# q_3.hint()\n",
    "# q_3.solution()"
   ]
  },
  {
   "cell_type": "markdown",
   "id": "53a34592",
   "metadata": {
    "papermill": {
     "duration": 0.006226,
     "end_time": "2022-10-24T10:14:53.742656",
     "exception": false,
     "start_time": "2022-10-24T10:14:53.736430",
     "status": "completed"
    },
    "tags": []
   },
   "source": [
    "# Keep going\n",
    "\n",
    "Move on to learn how to query **[nested and repeated data](https://www.kaggle.com/alexisbcook/nested-and-repeated-data)**."
   ]
  },
  {
   "cell_type": "markdown",
   "id": "291359ff",
   "metadata": {
    "papermill": {
     "duration": 0.006059,
     "end_time": "2022-10-24T10:14:53.755129",
     "exception": false,
     "start_time": "2022-10-24T10:14:53.749070",
     "status": "completed"
    },
    "tags": []
   },
   "source": [
    "---\n",
    "\n",
    "\n",
    "\n",
    "\n",
    "*Have questions or comments? Visit the [course discussion forum](https://www.kaggle.com/learn/advanced-sql/discussion) to chat with other learners.*"
   ]
  }
 ],
 "metadata": {
  "kernelspec": {
   "display_name": "Python 3",
   "language": "python",
   "name": "python3"
  },
  "language_info": {
   "codemirror_mode": {
    "name": "ipython",
    "version": 3
   },
   "file_extension": ".py",
   "mimetype": "text/x-python",
   "name": "python",
   "nbconvert_exporter": "python",
   "pygments_lexer": "ipython3",
   "version": "3.7.12"
  },
  "papermill": {
   "default_parameters": {},
   "duration": 50.811439,
   "end_time": "2022-10-24T10:14:54.382925",
   "environment_variables": {},
   "exception": null,
   "input_path": "__notebook__.ipynb",
   "output_path": "__notebook__.ipynb",
   "parameters": {},
   "start_time": "2022-10-24T10:14:03.571486",
   "version": "2.3.4"
  }
 },
 "nbformat": 4,
 "nbformat_minor": 5
}
