{
 "cells": [
  {
   "cell_type": "markdown",
   "id": "6dde3130",
   "metadata": {
    "papermill": {
     "duration": 0.005719,
     "end_time": "2022-10-19T18:03:12.713836",
     "exception": false,
     "start_time": "2022-10-19T18:03:12.708117",
     "status": "completed"
    },
    "tags": []
   },
   "source": [
    "**This notebook is an exercise in the [SQL](https://www.kaggle.com/learn/intro-to-sql) course.  You can reference the tutorial at [this link](https://www.kaggle.com/dansbecker/select-from-where).**\n",
    "\n",
    "---\n"
   ]
  },
  {
   "cell_type": "markdown",
   "id": "24f7507a",
   "metadata": {
    "papermill": {
     "duration": 0.004279,
     "end_time": "2022-10-19T18:03:12.722926",
     "exception": false,
     "start_time": "2022-10-19T18:03:12.718647",
     "status": "completed"
    },
    "tags": []
   },
   "source": [
    "### SELECT ... FROM\n",
    "The most basic SQL query selects a single column from a single table. To do this,\n",
    "\n",
    "- specify the column you want after the word SELECT, and then\n",
    "- specify the table after the word FROM.\n",
    "\n",
    "For instance, to select the Name column (from the pets table in the pet_records database in the bigquery-public-data project), our query would appear as follows:\n",
    "\n",
    "In case it's useful to see an example query, here's some code from the tutorial:\n",
    "\n",
    "```\n",
    "query = \"\"\"\n",
    "        SELECT city\n",
    "        FROM `bigquery-public-data.openaq.global_air_quality`\n",
    "        WHERE country = 'US'\n",
    "        \"\"\"\n",
    "```\n",
    "\n",
    "### WHERE\n",
    "BigQuery datasets are large, so you'll usually want to return only the rows meeting specific conditions. You can do this using the WHERE clause.\n",
    "\n",
    "The query below returns the entries from the Name column that are in rows where the Animal column has the text 'Cat'.\n",
    "\n",
    "### Working with big datasets\n",
    "BigQuery datasets can be huge. We allow you to do a lot of computation for free, but everyone has some limit.\n",
    "\n",
    "**Each Kaggle user can scan 5TB every 30 days for free. Once you hit that limit, you'll have to wait for it to reset.**\n",
    "\n",
    "The biggest dataset currently on Kaggle is 3TB, so you can go through your 30-day limit in a couple queries if you aren't careful.\n",
    "\n",
    "Don't worry though: we'll teach you how to avoid scanning too much data at once, so that you don't run over your limit.\n",
    "\n",
    "To begin,you can estimate the size of any query before running it. Here is an example using the (very large!) Hacker News dataset. To see how much data a query will scan, we create a QueryJobConfig object and set the dry_run parameter to True."
   ]
  },
  {
   "cell_type": "markdown",
   "id": "230889ee",
   "metadata": {
    "papermill": {
     "duration": 0.004181,
     "end_time": "2022-10-19T18:03:12.731630",
     "exception": false,
     "start_time": "2022-10-19T18:03:12.727449",
     "status": "completed"
    },
    "tags": []
   },
   "source": [
    "\n",
    "Query to get the score column from every row where the type column has value \"job\"\n",
    "```\n",
    "query = \"\"\"\n",
    "        SELECT score, title\n",
    "        FROM `bigquery-public-data.hacker_news.full`\n",
    "        WHERE type = \"job\" \n",
    "        \"\"\"\n",
    "```\n",
    "Create a QueryJobConfig object to estimate size of query without running it\n",
    "\n",
    "```\n",
    "dry_run_config = bigquery.QueryJobConfig(dry_run=True)\n",
    "```\n",
    "\n",
    "API request - dry run query to estimate costs\n",
    "\n",
    "```\n",
    "dry_run_query_job = client.query(query, job_config=dry_run_config)\n",
    "\n",
    "print(\"This query will process {} bytes.\".format(dry_run_query_job.total_bytes_processed))\n",
    "```\n",
    "> This query will process 494391991 bytes.\n",
    "\n",
    "You can also specify a parameter when running the query to limit how much data you are willing to scan. Here's an example with a low limit.\n",
    "\n",
    "Only run the query if it's less than 1 MB\n",
    "```\n",
    "ONE_MB = 1000*1000\n",
    "safe_config = bigquery.QueryJobConfig(maximum_bytes_billed=ONE_MB)\n",
    "```\n",
    "\n",
    "Set up the query (will only run if it's less than 1 MB)\n",
    "```\n",
    "safe_query_job = client.query(query, job_config=safe_config)\n",
    "```\n",
    "\n",
    "API request - try to run the query, and return a pandas DataFrame\n",
    "```\n",
    "safe_query_job.to_dataframe()\n",
    "```"
   ]
  },
  {
   "cell_type": "markdown",
   "id": "7086786a",
   "metadata": {
    "papermill": {
     "duration": 0.004214,
     "end_time": "2022-10-19T18:03:12.740269",
     "exception": false,
     "start_time": "2022-10-19T18:03:12.736055",
     "status": "completed"
    },
    "tags": []
   },
   "source": [
    "# Introduction\n",
    "\n",
    "Try writing some **SELECT** statements of your own to explore a large dataset of air pollution measurements.\n",
    "\n",
    "Run the cell below to set up the feedback system."
   ]
  },
  {
   "cell_type": "code",
   "execution_count": 1,
   "id": "a1b99218",
   "metadata": {
    "execution": {
     "iopub.execute_input": "2022-10-19T18:03:12.751461Z",
     "iopub.status.busy": "2022-10-19T18:03:12.750740Z",
     "iopub.status.idle": "2022-10-19T18:03:57.381712Z",
     "shell.execute_reply": "2022-10-19T18:03:57.380925Z"
    },
    "papermill": {
     "duration": 44.645325,
     "end_time": "2022-10-19T18:03:57.390084",
     "exception": false,
     "start_time": "2022-10-19T18:03:12.744759",
     "status": "completed"
    },
    "tags": []
   },
   "outputs": [
    {
     "name": "stdout",
     "output_type": "stream",
     "text": [
      "Using Kaggle's public dataset BigQuery integration.\n"
     ]
    },
    {
     "name": "stderr",
     "output_type": "stream",
     "text": [
      "/opt/conda/lib/python3.7/site-packages/google/cloud/bigquery/client.py:440: UserWarning: Cannot create BigQuery Storage client, the dependency google-cloud-bigquery-storage is not installed.\n",
      "  \"Cannot create BigQuery Storage client, the dependency \"\n"
     ]
    },
    {
     "name": "stdout",
     "output_type": "stream",
     "text": [
      "Setup Complete\n"
     ]
    }
   ],
   "source": [
    "# Set up feedback system\n",
    "from learntools.core import binder\n",
    "binder.bind(globals())\n",
    "from learntools.sql.ex2 import *\n",
    "print(\"Setup Complete\")"
   ]
  },
  {
   "cell_type": "markdown",
   "id": "17b65100",
   "metadata": {
    "papermill": {
     "duration": 0.004698,
     "end_time": "2022-10-19T18:03:57.400595",
     "exception": false,
     "start_time": "2022-10-19T18:03:57.395897",
     "status": "completed"
    },
    "tags": []
   },
   "source": [
    "The code cell below fetches the `global_air_quality` table from the `openaq` dataset.  We also preview the first five rows of the table."
   ]
  },
  {
   "cell_type": "code",
   "execution_count": 2,
   "id": "fe027012",
   "metadata": {
    "execution": {
     "iopub.execute_input": "2022-10-19T18:03:57.412566Z",
     "iopub.status.busy": "2022-10-19T18:03:57.412133Z",
     "iopub.status.idle": "2022-10-19T18:03:59.009682Z",
     "shell.execute_reply": "2022-10-19T18:03:59.008596Z"
    },
    "papermill": {
     "duration": 1.606362,
     "end_time": "2022-10-19T18:03:59.011848",
     "exception": false,
     "start_time": "2022-10-19T18:03:57.405486",
     "status": "completed"
    },
    "tags": []
   },
   "outputs": [
    {
     "name": "stdout",
     "output_type": "stream",
     "text": [
      "Using Kaggle's public dataset BigQuery integration.\n"
     ]
    },
    {
     "name": "stderr",
     "output_type": "stream",
     "text": [
      "/opt/conda/lib/python3.7/site-packages/ipykernel_launcher.py:19: UserWarning: Cannot use bqstorage_client if max_results is set, reverting to fetching data with the tabledata.list endpoint.\n"
     ]
    },
    {
     "data": {
      "text/html": [
       "<div>\n",
       "<style scoped>\n",
       "    .dataframe tbody tr th:only-of-type {\n",
       "        vertical-align: middle;\n",
       "    }\n",
       "\n",
       "    .dataframe tbody tr th {\n",
       "        vertical-align: top;\n",
       "    }\n",
       "\n",
       "    .dataframe thead th {\n",
       "        text-align: right;\n",
       "    }\n",
       "</style>\n",
       "<table border=\"1\" class=\"dataframe\">\n",
       "  <thead>\n",
       "    <tr style=\"text-align: right;\">\n",
       "      <th></th>\n",
       "      <th>location</th>\n",
       "      <th>city</th>\n",
       "      <th>country</th>\n",
       "      <th>pollutant</th>\n",
       "      <th>value</th>\n",
       "      <th>timestamp</th>\n",
       "      <th>unit</th>\n",
       "      <th>source_name</th>\n",
       "      <th>latitude</th>\n",
       "      <th>longitude</th>\n",
       "      <th>averaged_over_in_hours</th>\n",
       "      <th>location_geom</th>\n",
       "    </tr>\n",
       "  </thead>\n",
       "  <tbody>\n",
       "    <tr>\n",
       "      <th>0</th>\n",
       "      <td>Borówiec, ul. Drapałka</td>\n",
       "      <td>Borówiec</td>\n",
       "      <td>PL</td>\n",
       "      <td>bc</td>\n",
       "      <td>0.85217</td>\n",
       "      <td>2022-04-28 07:00:00+00:00</td>\n",
       "      <td>µg/m³</td>\n",
       "      <td>GIOS</td>\n",
       "      <td>1.0</td>\n",
       "      <td>52.276794</td>\n",
       "      <td>17.074114</td>\n",
       "      <td>POINT(52.276794 1)</td>\n",
       "    </tr>\n",
       "    <tr>\n",
       "      <th>1</th>\n",
       "      <td>Kraków, ul. Bulwarowa</td>\n",
       "      <td>Kraków</td>\n",
       "      <td>PL</td>\n",
       "      <td>bc</td>\n",
       "      <td>0.91284</td>\n",
       "      <td>2022-04-27 23:00:00+00:00</td>\n",
       "      <td>µg/m³</td>\n",
       "      <td>GIOS</td>\n",
       "      <td>1.0</td>\n",
       "      <td>50.069308</td>\n",
       "      <td>20.053492</td>\n",
       "      <td>POINT(50.069308 1)</td>\n",
       "    </tr>\n",
       "    <tr>\n",
       "      <th>2</th>\n",
       "      <td>Płock, ul. Reja</td>\n",
       "      <td>Płock</td>\n",
       "      <td>PL</td>\n",
       "      <td>bc</td>\n",
       "      <td>1.41000</td>\n",
       "      <td>2022-03-30 04:00:00+00:00</td>\n",
       "      <td>µg/m³</td>\n",
       "      <td>GIOS</td>\n",
       "      <td>1.0</td>\n",
       "      <td>52.550938</td>\n",
       "      <td>19.709791</td>\n",
       "      <td>POINT(52.550938 1)</td>\n",
       "    </tr>\n",
       "    <tr>\n",
       "      <th>3</th>\n",
       "      <td>Elbląg, ul. Bażyńskiego</td>\n",
       "      <td>Elbląg</td>\n",
       "      <td>PL</td>\n",
       "      <td>bc</td>\n",
       "      <td>0.33607</td>\n",
       "      <td>2022-05-03 13:00:00+00:00</td>\n",
       "      <td>µg/m³</td>\n",
       "      <td>GIOS</td>\n",
       "      <td>1.0</td>\n",
       "      <td>54.167847</td>\n",
       "      <td>19.410942</td>\n",
       "      <td>POINT(54.167847 1)</td>\n",
       "    </tr>\n",
       "    <tr>\n",
       "      <th>4</th>\n",
       "      <td>Piastów, ul. Pułaskiego</td>\n",
       "      <td>Piastów</td>\n",
       "      <td>PL</td>\n",
       "      <td>bc</td>\n",
       "      <td>0.51000</td>\n",
       "      <td>2022-05-11 05:00:00+00:00</td>\n",
       "      <td>µg/m³</td>\n",
       "      <td>GIOS</td>\n",
       "      <td>1.0</td>\n",
       "      <td>52.191728</td>\n",
       "      <td>20.837489</td>\n",
       "      <td>POINT(52.191728 1)</td>\n",
       "    </tr>\n",
       "  </tbody>\n",
       "</table>\n",
       "</div>"
      ],
      "text/plain": [
       "                  location      city country pollutant    value  \\\n",
       "0   Borówiec, ul. Drapałka  Borówiec      PL        bc  0.85217   \n",
       "1    Kraków, ul. Bulwarowa    Kraków      PL        bc  0.91284   \n",
       "2          Płock, ul. Reja     Płock      PL        bc  1.41000   \n",
       "3  Elbląg, ul. Bażyńskiego    Elbląg      PL        bc  0.33607   \n",
       "4  Piastów, ul. Pułaskiego   Piastów      PL        bc  0.51000   \n",
       "\n",
       "                  timestamp   unit source_name  latitude  longitude  \\\n",
       "0 2022-04-28 07:00:00+00:00  µg/m³        GIOS       1.0  52.276794   \n",
       "1 2022-04-27 23:00:00+00:00  µg/m³        GIOS       1.0  50.069308   \n",
       "2 2022-03-30 04:00:00+00:00  µg/m³        GIOS       1.0  52.550938   \n",
       "3 2022-05-03 13:00:00+00:00  µg/m³        GIOS       1.0  54.167847   \n",
       "4 2022-05-11 05:00:00+00:00  µg/m³        GIOS       1.0  52.191728   \n",
       "\n",
       "   averaged_over_in_hours       location_geom  \n",
       "0               17.074114  POINT(52.276794 1)  \n",
       "1               20.053492  POINT(50.069308 1)  \n",
       "2               19.709791  POINT(52.550938 1)  \n",
       "3               19.410942  POINT(54.167847 1)  \n",
       "4               20.837489  POINT(52.191728 1)  "
      ]
     },
     "execution_count": 2,
     "metadata": {},
     "output_type": "execute_result"
    }
   ],
   "source": [
    "from google.cloud import bigquery\n",
    "\n",
    "# Create a \"Client\" object\n",
    "client = bigquery.Client()\n",
    "\n",
    "# Construct a reference to the \"openaq\" dataset\n",
    "dataset_ref = client.dataset(\"openaq\", project=\"bigquery-public-data\")\n",
    "\n",
    "# API request - fetch the dataset\n",
    "dataset = client.get_dataset(dataset_ref)\n",
    "\n",
    "# Construct a reference to the \"global_air_quality\" table\n",
    "table_ref = dataset_ref.table(\"global_air_quality\")\n",
    "\n",
    "# API request - fetch the table\n",
    "table = client.get_table(table_ref)\n",
    "\n",
    "# Preview the first five lines of the \"global_air_quality\" table\n",
    "client.list_rows(table, max_results=5).to_dataframe()"
   ]
  },
  {
   "cell_type": "markdown",
   "id": "1a123697",
   "metadata": {
    "papermill": {
     "duration": 0.00517,
     "end_time": "2022-10-19T18:03:59.022459",
     "exception": false,
     "start_time": "2022-10-19T18:03:59.017289",
     "status": "completed"
    },
    "tags": []
   },
   "source": [
    "# Exercises\n",
    "\n",
    "### 1) Units of measurement\n",
    "\n",
    "Which countries have reported pollution levels in units of \"ppm\"?  In the code cell below, set `first_query` to an SQL query that pulls the appropriate entries from the `country` column."
   ]
  },
  {
   "cell_type": "code",
   "execution_count": 3,
   "id": "21f0aafd",
   "metadata": {
    "execution": {
     "iopub.execute_input": "2022-10-19T18:03:59.034236Z",
     "iopub.status.busy": "2022-10-19T18:03:59.033809Z",
     "iopub.status.idle": "2022-10-19T18:04:00.611332Z",
     "shell.execute_reply": "2022-10-19T18:04:00.610290Z"
    },
    "papermill": {
     "duration": 1.586124,
     "end_time": "2022-10-19T18:04:00.613472",
     "exception": false,
     "start_time": "2022-10-19T18:03:59.027348",
     "status": "completed"
    },
    "tags": []
   },
   "outputs": [
    {
     "name": "stderr",
     "output_type": "stream",
     "text": [
      "/opt/conda/lib/python3.7/site-packages/google/cloud/bigquery/client.py:440: UserWarning: Cannot create BigQuery Storage client, the dependency google-cloud-bigquery-storage is not installed.\n",
      "  \"Cannot create BigQuery Storage client, the dependency \"\n"
     ]
    },
    {
     "name": "stdout",
     "output_type": "stream",
     "text": [
      "28\n"
     ]
    },
    {
     "data": {
      "application/javascript": [
       "parent.postMessage({\"jupyterEvent\": \"custom.exercise_interaction\", \"data\": {\"outcomeType\": 1, \"valueTowardsCompletion\": 0.5, \"interactionType\": 1, \"questionType\": 2, \"questionId\": \"1_WhichCountries\", \"learnToolsVersion\": \"0.3.4\", \"failureMessage\": \"\", \"exceptionClass\": \"\", \"trace\": \"\"}}, \"*\")"
      ],
      "text/plain": [
       "<IPython.core.display.Javascript object>"
      ]
     },
     "metadata": {},
     "output_type": "display_data"
    },
    {
     "data": {
      "text/markdown": [
       "<span style=\"color:#33cc33\">Correct</span>"
      ],
      "text/plain": [
       "Correct"
      ]
     },
     "metadata": {},
     "output_type": "display_data"
    }
   ],
   "source": [
    "# Query to select countries with units of \"ppm\"\n",
    "first_query = \"\"\"\n",
    "              SELECT country\n",
    "              FROM `bigquery-public-data.openaq.global_air_quality`\n",
    "              WHERE unit = \"ppm\"\n",
    "              \"\"\"\n",
    "\n",
    "# Or to get each country just once, you could use\n",
    "first_query = \"\"\"\n",
    "              SELECT DISTINCT country\n",
    "              FROM `bigquery-public-data.openaq.global_air_quality`\n",
    "              WHERE unit = \"ppm\"\n",
    "              \"\"\"\n",
    "# Set up the query (cancel the query if it would use too much of \n",
    "# your quota, with the limit set to 10 GB)\n",
    "safe_config = bigquery.QueryJobConfig(maximum_bytes_billed=10**10)\n",
    "first_query_job = client.query(first_query, job_config=safe_config)\n",
    "\n",
    "# API request - run the query, and return a pandas DataFrame\n",
    "first_results = first_query_job.to_dataframe()\n",
    "\n",
    "# View size of results\n",
    "print(len(first_results))\n",
    "\n",
    "# Check your answer\n",
    "q_1.check()"
   ]
  },
  {
   "cell_type": "markdown",
   "id": "9b6cc5b3",
   "metadata": {
    "papermill": {
     "duration": 0.005307,
     "end_time": "2022-10-19T18:04:00.624483",
     "exception": false,
     "start_time": "2022-10-19T18:04:00.619176",
     "status": "completed"
    },
    "tags": []
   },
   "source": [
    "Some countries showed up many times in the results. To get each country only once you can run `SELECT DISTINCT country ...`. The DISTINCT keyword ensures each column shows up once, which you'll want in some cases."
   ]
  },
  {
   "cell_type": "markdown",
   "id": "d9242b28",
   "metadata": {
    "papermill": {
     "duration": 0.005169,
     "end_time": "2022-10-19T18:04:00.635086",
     "exception": false,
     "start_time": "2022-10-19T18:04:00.629917",
     "status": "completed"
    },
    "tags": []
   },
   "source": [
    "For the solution, uncomment the line below."
   ]
  },
  {
   "cell_type": "code",
   "execution_count": 4,
   "id": "ac1a0724",
   "metadata": {
    "execution": {
     "iopub.execute_input": "2022-10-19T18:04:00.648751Z",
     "iopub.status.busy": "2022-10-19T18:04:00.648338Z",
     "iopub.status.idle": "2022-10-19T18:04:00.652910Z",
     "shell.execute_reply": "2022-10-19T18:04:00.651852Z"
    },
    "papermill": {
     "duration": 0.01443,
     "end_time": "2022-10-19T18:04:00.654902",
     "exception": false,
     "start_time": "2022-10-19T18:04:00.640472",
     "status": "completed"
    },
    "tags": []
   },
   "outputs": [],
   "source": [
    "# q_1.solution()"
   ]
  },
  {
   "cell_type": "markdown",
   "id": "4164b3d3",
   "metadata": {
    "papermill": {
     "duration": 0.005262,
     "end_time": "2022-10-19T18:04:00.665777",
     "exception": false,
     "start_time": "2022-10-19T18:04:00.660515",
     "status": "completed"
    },
    "tags": []
   },
   "source": [
    "### More queries\n",
    "If you want multiple columns, you can select them with a comma between the names:\n",
    "```\n",
    "query = \"\"\"\n",
    "        SELECT city, country\n",
    "        FROM `bigquery-public-data.openaq.global_air_quality`\n",
    "        WHERE country = 'US'\n",
    "        \"\"\"\n",
    "```\n",
    "\n",
    "\n",
    "You can select all columns with a * like this:     \n",
    "```\n",
    "query = \"\"\"\n",
    "        SELECT *\n",
    "        FROM `bigquery-public-data.openaq.global_air_quality`\n",
    "        WHERE country = 'US'\n",
    "        \"\"\"\n",
    "```\n"
   ]
  },
  {
   "cell_type": "markdown",
   "id": "4e030fe9",
   "metadata": {
    "papermill": {
     "duration": 0.005237,
     "end_time": "2022-10-19T18:04:00.676495",
     "exception": false,
     "start_time": "2022-10-19T18:04:00.671258",
     "status": "completed"
    },
    "tags": []
   },
   "source": [
    "### 2) High air quality\n",
    "\n",
    "Which pollution levels were reported to be exactly 0?  \n",
    "- Set `zero_pollution_query` to select **all columns** of the rows where the `value` column is 0.\n",
    "- Set `zero_pollution_results` to a pandas DataFrame containing the query results."
   ]
  },
  {
   "cell_type": "code",
   "execution_count": 5,
   "id": "6a78546f",
   "metadata": {
    "execution": {
     "iopub.execute_input": "2022-10-19T18:04:00.690246Z",
     "iopub.status.busy": "2022-10-19T18:04:00.689560Z",
     "iopub.status.idle": "2022-10-19T18:04:25.951967Z",
     "shell.execute_reply": "2022-10-19T18:04:25.950939Z"
    },
    "papermill": {
     "duration": 25.272107,
     "end_time": "2022-10-19T18:04:25.954561",
     "exception": false,
     "start_time": "2022-10-19T18:04:00.682454",
     "status": "completed"
    },
    "tags": []
   },
   "outputs": [
    {
     "data": {
      "application/javascript": [
       "parent.postMessage({\"jupyterEvent\": \"custom.exercise_interaction\", \"data\": {\"outcomeType\": 1, \"valueTowardsCompletion\": 0.5, \"interactionType\": 1, \"questionType\": 2, \"questionId\": \"2_ZeroPollution\", \"learnToolsVersion\": \"0.3.4\", \"failureMessage\": \"\", \"exceptionClass\": \"\", \"trace\": \"\"}}, \"*\")"
      ],
      "text/plain": [
       "<IPython.core.display.Javascript object>"
      ]
     },
     "metadata": {},
     "output_type": "display_data"
    },
    {
     "data": {
      "text/markdown": [
       "<span style=\"color:#33cc33\">Correct</span>"
      ],
      "text/plain": [
       "Correct"
      ]
     },
     "metadata": {},
     "output_type": "display_data"
    }
   ],
   "source": [
    "# Query to select all columns where pollution levels are exactly 0\n",
    "zero_pollution_query = \"\"\"\n",
    "                       SELECT *\n",
    "                       FROM `bigquery-public-data.openaq.global_air_quality`\n",
    "                       WHERE value = 0\n",
    "                       \"\"\"# Your code goes here\n",
    "\n",
    "# Set up the query\n",
    "safe_config = bigquery.QueryJobConfig(maximum_bytes_billed=10**10)\n",
    "query_job = client.query(zero_pollution_query, job_config=safe_config)\n",
    "\n",
    "# API request - run the query and return a pandas DataFrame\n",
    "zero_pollution_results = query_job.to_dataframe() # Your code goes here\n",
    "\n",
    "# Check your answer\n",
    "q_2.check()"
   ]
  },
  {
   "cell_type": "markdown",
   "id": "d0cea9c3",
   "metadata": {
    "papermill": {
     "duration": 0.005462,
     "end_time": "2022-10-19T18:04:25.965961",
     "exception": false,
     "start_time": "2022-10-19T18:04:25.960499",
     "status": "completed"
    },
    "tags": []
   },
   "source": [
    "For the solution, uncomment the line below."
   ]
  },
  {
   "cell_type": "code",
   "execution_count": 6,
   "id": "9be58364",
   "metadata": {
    "execution": {
     "iopub.execute_input": "2022-10-19T18:04:25.978796Z",
     "iopub.status.busy": "2022-10-19T18:04:25.978371Z",
     "iopub.status.idle": "2022-10-19T18:04:25.995960Z",
     "shell.execute_reply": "2022-10-19T18:04:25.995211Z"
    },
    "papermill": {
     "duration": 0.026307,
     "end_time": "2022-10-19T18:04:25.997850",
     "exception": false,
     "start_time": "2022-10-19T18:04:25.971543",
     "status": "completed"
    },
    "tags": []
   },
   "outputs": [
    {
     "data": {
      "text/html": [
       "<div>\n",
       "<style scoped>\n",
       "    .dataframe tbody tr th:only-of-type {\n",
       "        vertical-align: middle;\n",
       "    }\n",
       "\n",
       "    .dataframe tbody tr th {\n",
       "        vertical-align: top;\n",
       "    }\n",
       "\n",
       "    .dataframe thead th {\n",
       "        text-align: right;\n",
       "    }\n",
       "</style>\n",
       "<table border=\"1\" class=\"dataframe\">\n",
       "  <thead>\n",
       "    <tr style=\"text-align: right;\">\n",
       "      <th></th>\n",
       "      <th>location</th>\n",
       "      <th>city</th>\n",
       "      <th>country</th>\n",
       "      <th>pollutant</th>\n",
       "      <th>value</th>\n",
       "      <th>timestamp</th>\n",
       "      <th>unit</th>\n",
       "      <th>source_name</th>\n",
       "      <th>latitude</th>\n",
       "      <th>longitude</th>\n",
       "      <th>averaged_over_in_hours</th>\n",
       "      <th>location_geom</th>\n",
       "    </tr>\n",
       "  </thead>\n",
       "  <tbody>\n",
       "    <tr>\n",
       "      <th>0</th>\n",
       "      <td>Żary, ul. Szymanowskiego 8</td>\n",
       "      <td>Żary</td>\n",
       "      <td>PL</td>\n",
       "      <td>bc</td>\n",
       "      <td>0.0</td>\n",
       "      <td>2022-05-05 02:00:00+00:00</td>\n",
       "      <td>µg/m³</td>\n",
       "      <td>GIOS</td>\n",
       "      <td>1.0</td>\n",
       "      <td>51.642656</td>\n",
       "      <td>15.127808</td>\n",
       "      <td>POINT(51.642656 1)</td>\n",
       "    </tr>\n",
       "    <tr>\n",
       "      <th>1</th>\n",
       "      <td>Starachowice, ul. Złota</td>\n",
       "      <td>Starachowice</td>\n",
       "      <td>PL</td>\n",
       "      <td>bc</td>\n",
       "      <td>0.0</td>\n",
       "      <td>2022-05-08 11:00:00+00:00</td>\n",
       "      <td>µg/m³</td>\n",
       "      <td>GIOS</td>\n",
       "      <td>1.0</td>\n",
       "      <td>51.050611</td>\n",
       "      <td>21.084175</td>\n",
       "      <td>POINT(51.050611 1)</td>\n",
       "    </tr>\n",
       "    <tr>\n",
       "      <th>2</th>\n",
       "      <td>Kraków, ul. Bulwarowa</td>\n",
       "      <td>Kraków</td>\n",
       "      <td>PL</td>\n",
       "      <td>bc</td>\n",
       "      <td>0.0</td>\n",
       "      <td>2022-05-07 13:00:00+00:00</td>\n",
       "      <td>µg/m³</td>\n",
       "      <td>GIOS</td>\n",
       "      <td>1.0</td>\n",
       "      <td>50.069308</td>\n",
       "      <td>20.053492</td>\n",
       "      <td>POINT(50.069308 1)</td>\n",
       "    </tr>\n",
       "    <tr>\n",
       "      <th>3</th>\n",
       "      <td>Zielonka, Bory Tucholskie</td>\n",
       "      <td>Zielonka</td>\n",
       "      <td>PL</td>\n",
       "      <td>bc</td>\n",
       "      <td>0.0</td>\n",
       "      <td>2022-05-15 11:00:00+00:00</td>\n",
       "      <td>µg/m³</td>\n",
       "      <td>GIOS</td>\n",
       "      <td>1.0</td>\n",
       "      <td>53.662136</td>\n",
       "      <td>17.933986</td>\n",
       "      <td>POINT(53.662136 1)</td>\n",
       "    </tr>\n",
       "    <tr>\n",
       "      <th>4</th>\n",
       "      <td>Żagań, ul. Kochanowskiego</td>\n",
       "      <td>Żagań</td>\n",
       "      <td>PL</td>\n",
       "      <td>bc</td>\n",
       "      <td>0.0</td>\n",
       "      <td>2022-05-02 13:00:00+00:00</td>\n",
       "      <td>µg/m³</td>\n",
       "      <td>GIOS</td>\n",
       "      <td>1.0</td>\n",
       "      <td>51.615447</td>\n",
       "      <td>15.301667</td>\n",
       "      <td>POINT(51.615447 1)</td>\n",
       "    </tr>\n",
       "  </tbody>\n",
       "</table>\n",
       "</div>"
      ],
      "text/plain": [
       "                     location          city country pollutant  value  \\\n",
       "0  Żary, ul. Szymanowskiego 8          Żary      PL        bc    0.0   \n",
       "1     Starachowice, ul. Złota  Starachowice      PL        bc    0.0   \n",
       "2       Kraków, ul. Bulwarowa        Kraków      PL        bc    0.0   \n",
       "3   Zielonka, Bory Tucholskie      Zielonka      PL        bc    0.0   \n",
       "4   Żagań, ul. Kochanowskiego         Żagań      PL        bc    0.0   \n",
       "\n",
       "                  timestamp   unit source_name  latitude  longitude  \\\n",
       "0 2022-05-05 02:00:00+00:00  µg/m³        GIOS       1.0  51.642656   \n",
       "1 2022-05-08 11:00:00+00:00  µg/m³        GIOS       1.0  51.050611   \n",
       "2 2022-05-07 13:00:00+00:00  µg/m³        GIOS       1.0  50.069308   \n",
       "3 2022-05-15 11:00:00+00:00  µg/m³        GIOS       1.0  53.662136   \n",
       "4 2022-05-02 13:00:00+00:00  µg/m³        GIOS       1.0  51.615447   \n",
       "\n",
       "   averaged_over_in_hours       location_geom  \n",
       "0               15.127808  POINT(51.642656 1)  \n",
       "1               21.084175  POINT(51.050611 1)  \n",
       "2               20.053492  POINT(50.069308 1)  \n",
       "3               17.933986  POINT(53.662136 1)  \n",
       "4               15.301667  POINT(51.615447 1)  "
      ]
     },
     "metadata": {},
     "output_type": "display_data"
    }
   ],
   "source": [
    "display(zero_pollution_results.head())"
   ]
  },
  {
   "cell_type": "code",
   "execution_count": 7,
   "id": "36fb40cb",
   "metadata": {
    "execution": {
     "iopub.execute_input": "2022-10-19T18:04:26.012055Z",
     "iopub.status.busy": "2022-10-19T18:04:26.011156Z",
     "iopub.status.idle": "2022-10-19T18:04:26.015951Z",
     "shell.execute_reply": "2022-10-19T18:04:26.014909Z"
    },
    "papermill": {
     "duration": 0.014099,
     "end_time": "2022-10-19T18:04:26.018146",
     "exception": false,
     "start_time": "2022-10-19T18:04:26.004047",
     "status": "completed"
    },
    "tags": []
   },
   "outputs": [],
   "source": [
    "# q_2.solution()"
   ]
  },
  {
   "cell_type": "markdown",
   "id": "64da75f9",
   "metadata": {
    "papermill": {
     "duration": 0.005839,
     "end_time": "2022-10-19T18:04:26.030003",
     "exception": false,
     "start_time": "2022-10-19T18:04:26.024164",
     "status": "completed"
    },
    "tags": []
   },
   "source": [
    "That query wasn't too complicated, and it got the data you want. But these **SELECT** queries don't organizing data in a way that answers the most interesting questions. For that, we'll need the **GROUP BY** command. \n",
    "\n",
    "If you know how to use [`groupby()`](https://pandas.pydata.org/pandas-docs/stable/reference/api/pandas.DataFrame.groupby.html) in pandas, this is similar. But BigQuery works quickly with far larger datasets.\n",
    "\n",
    "Fortunately, that's next."
   ]
  },
  {
   "cell_type": "markdown",
   "id": "dee843f5",
   "metadata": {
    "papermill": {
     "duration": 0.005902,
     "end_time": "2022-10-19T18:04:26.041810",
     "exception": false,
     "start_time": "2022-10-19T18:04:26.035908",
     "status": "completed"
    },
    "tags": []
   },
   "source": [
    "# Keep going\n",
    "**[GROUP BY](https://www.kaggle.com/dansbecker/group-by-having-count)** clauses and their extensions give you the power to pull interesting statistics out of data, rather than receiving it in just its raw format."
   ]
  },
  {
   "cell_type": "markdown",
   "id": "e4bea763",
   "metadata": {
    "papermill": {
     "duration": 0.005874,
     "end_time": "2022-10-19T18:04:26.053739",
     "exception": false,
     "start_time": "2022-10-19T18:04:26.047865",
     "status": "completed"
    },
    "tags": []
   },
   "source": [
    "---\n",
    "\n",
    "\n",
    "\n",
    "\n",
    "*Have questions or comments? Visit the [course discussion forum](https://www.kaggle.com/learn/intro-to-sql/discussion) to chat with other learners.*"
   ]
  }
 ],
 "metadata": {
  "kernelspec": {
   "display_name": "Python 3",
   "language": "python",
   "name": "python3"
  },
  "language_info": {
   "codemirror_mode": {
    "name": "ipython",
    "version": 3
   },
   "file_extension": ".py",
   "mimetype": "text/x-python",
   "name": "python",
   "nbconvert_exporter": "python",
   "pygments_lexer": "ipython3",
   "version": "3.7.12"
  },
  "papermill": {
   "default_parameters": {},
   "duration": 82.761334,
   "end_time": "2022-10-19T18:04:26.681509",
   "environment_variables": {},
   "exception": null,
   "input_path": "__notebook__.ipynb",
   "output_path": "__notebook__.ipynb",
   "parameters": {},
   "start_time": "2022-10-19T18:03:03.920175",
   "version": "2.3.4"
  }
 },
 "nbformat": 4,
 "nbformat_minor": 5
}
