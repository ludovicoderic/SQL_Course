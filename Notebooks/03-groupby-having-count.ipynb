{
 "cells": [
  {
   "cell_type": "markdown",
   "id": "e01bcb89",
   "metadata": {
    "papermill": {
     "duration": 0.006602,
     "end_time": "2022-10-20T11:40:44.768670",
     "exception": false,
     "start_time": "2022-10-20T11:40:44.762068",
     "status": "completed"
    },
    "tags": []
   },
   "source": [
    "**This notebook is an exercise in the [SQL](https://www.kaggle.com/learn/intro-to-sql) course.  You can reference the tutorial at [this link](https://www.kaggle.com/dansbecker/group-by-having-count).**\n",
    "\n",
    "---\n"
   ]
  },
  {
   "cell_type": "markdown",
   "id": "1bb6c8fa",
   "metadata": {
    "papermill": {
     "duration": 0.004293,
     "end_time": "2022-10-20T11:40:44.777555",
     "exception": false,
     "start_time": "2022-10-20T11:40:44.773262",
     "status": "completed"
    },
    "tags": []
   },
   "source": [
    "### COUNT()\n",
    "COUNT(), as you may have guessed from the name, returns a count of things. If you pass it the name of a column, it will return the number of entries in that column.\n",
    "\n",
    "For instance, if we SELECT the COUNT() of the ID column in the pets table, it will return 4, because there are 4 ID's in the table.\n",
    "\n",
    "![](https://i.imgur.com/Eu5HkXq.png)\n",
    "\n",
    "COUNT() is an example of an aggregate function, which takes many values and returns one. (Other examples of aggregate functions include SUM(), AVG(), MIN(), and MAX().) As you'll notice in the picture above, aggregate functions introduce strange column names (like f0__). Later in this tutorial, you'll learn how to change the name to something more descriptive.\n",
    "\n",
    "### GROUP BY\n",
    "GROUP BY takes the name of one or more columns, and treats all rows with the same value in that column as a single group when you apply aggregate functions like COUNT().\n",
    "\n",
    "For example, say we want to know how many of each type of animal we have in the pets table. We can use GROUP BY to group together rows that have the same value in the Animal column, while using COUNT() to find out how many ID's we have in each group.\n",
    "\n",
    "![](https://i.imgur.com/tqE9Eh8.png)\n",
    "\n",
    "It returns a table with three rows (one for each distinct animal). We can see that the pets table contains 1 rabbit, 1 dog, and 2 cats.\n",
    "\n",
    "### GROUP BY ... HAVING\n",
    "HAVING is used in combination with GROUP BY to ignore groups that don't meet certain criteria.\n",
    "\n",
    "So this query, for example, will only include groups that have more than one ID in them.\n",
    "\n",
    "![](https://i.imgur.com/2ImXfHQ.png)\n",
    "\n",
    "Since only one group meets the specified criterion, the query will return a table with only one row."
   ]
  },
  {
   "cell_type": "markdown",
   "id": "3d30117b",
   "metadata": {
    "papermill": {
     "duration": 0.004052,
     "end_time": "2022-10-20T11:40:44.786161",
     "exception": false,
     "start_time": "2022-10-20T11:40:44.782109",
     "status": "completed"
    },
    "tags": []
   },
   "source": [
    "### Aliasing and other improvements\n",
    "A couple hints to make your queries even better:\n",
    "\n",
    "- The column resulting from COUNT(id) was called f0__. That's not a very descriptive name. You can change the name by adding AS NumPosts after you specify the aggregation. This is called **aliasing**, and it will be covered in more detail in an upcoming lesson.\n",
    "- If you are ever unsure what to put inside the **COUNT()** function, you can do COUNT(1) to count the rows in each group. Most people find it especially readable, because we know it's not focusing on other columns. It also scans less data than if supplied column names (making it faster and using less of your data access quota).\n",
    "\n",
    "from:\n",
    "\n",
    "```\n",
    "# Query to select comments that received more than 10 replies\n",
    "query_popular = \"\"\"\n",
    "                SELECT parent, COUNT(id)\n",
    "                FROM `bigquery-public-data.hacker_news.comments`\n",
    "                GROUP BY parent\n",
    "                HAVING COUNT(id) > 10\n",
    "                \"\"\"\n",
    "```\n",
    "\n",
    "to:\n",
    "```\n",
    "# Improved version of earlier query, now with aliasing & improved readability\n",
    "query_improved = \"\"\"\n",
    "                 SELECT parent, COUNT(1) AS NumPosts\n",
    "                 FROM `bigquery-public-data.hacker_news.comments`\n",
    "                 GROUP BY parent\n",
    "                 HAVING COUNT(1) > 10\n",
    "                 \"\"\"\n",
    "```\n",
    "\n",
    "\n",
    "### Note on using GROUP BY\n",
    "Note that because it tells SQL how to apply aggregate functions (like COUNT()), it doesn't make sense to use GROUP BY without an aggregate function. Similarly, if you have any GROUP BY clause, then all variables must be passed to either a\n",
    "\n",
    "1. GROUP BY command, or\n",
    "2. an aggregation function.\n",
    "Consider the query below:\n",
    "```\n",
    "query_good = \"\"\"\n",
    "             SELECT parent, COUNT(id)\n",
    "             FROM `bigquery-public-data.hacker_news.comments`\n",
    "             GROUP BY parent\n",
    "             \"\"\"\n",
    "```\n",
    "Note that there are two variables: parent and id.\n",
    "\n",
    "- parent was passed to a GROUP BY command (in GROUP BY parent), and\n",
    "- id was passed to an aggregate function (in COUNT(id)).\n",
    "And this query won't work, because the author column isn't passed to an aggregate function or a GROUP BY clause:\n",
    "```\n",
    "query_bad = \"\"\"\n",
    "            SELECT author, parent, COUNT(id)\n",
    "            FROM `bigquery-public-data.hacker_news.comments`\n",
    "            GROUP BY parent\n",
    "            \"\"\"\n",
    "```\n",
    "If make this error, you'll get the error message SELECT list expression references column (column's name) which is neither grouped nor aggregated at."
   ]
  },
  {
   "cell_type": "markdown",
   "id": "7fec216b",
   "metadata": {
    "papermill": {
     "duration": 0.00436,
     "end_time": "2022-10-20T11:40:44.794756",
     "exception": false,
     "start_time": "2022-10-20T11:40:44.790396",
     "status": "completed"
    },
    "tags": []
   },
   "source": [
    "# Introduction\n",
    "\n",
    "Queries with **GROUP BY** can be powerful. There are many small things that can trip you up (like the order of the clauses), but it will start to feel natural once you've done it a few times. Here, you'll write queries using **GROUP BY** to answer questions from the Hacker News dataset.\n",
    "\n",
    "Before you get started, run the following cell to set everything up:"
   ]
  },
  {
   "cell_type": "code",
   "execution_count": 1,
   "id": "d6a46d98",
   "metadata": {
    "execution": {
     "iopub.execute_input": "2022-10-20T11:40:44.806299Z",
     "iopub.status.busy": "2022-10-20T11:40:44.805572Z",
     "iopub.status.idle": "2022-10-20T11:40:47.313031Z",
     "shell.execute_reply": "2022-10-20T11:40:47.311877Z"
    },
    "papermill": {
     "duration": 2.517162,
     "end_time": "2022-10-20T11:40:47.316337",
     "exception": false,
     "start_time": "2022-10-20T11:40:44.799175",
     "status": "completed"
    },
    "tags": []
   },
   "outputs": [
    {
     "name": "stdout",
     "output_type": "stream",
     "text": [
      "Using Kaggle's public dataset BigQuery integration.\n"
     ]
    },
    {
     "name": "stderr",
     "output_type": "stream",
     "text": [
      "/opt/conda/lib/python3.7/site-packages/google/cloud/bigquery/client.py:440: UserWarning: Cannot create BigQuery Storage client, the dependency google-cloud-bigquery-storage is not installed.\n",
      "  \"Cannot create BigQuery Storage client, the dependency \"\n"
     ]
    },
    {
     "name": "stdout",
     "output_type": "stream",
     "text": [
      "Setup Complete\n"
     ]
    }
   ],
   "source": [
    "# Set up feedback system\n",
    "from learntools.core import binder\n",
    "binder.bind(globals())\n",
    "from learntools.sql.ex3 import *\n",
    "print(\"Setup Complete\")"
   ]
  },
  {
   "cell_type": "markdown",
   "id": "53af7849",
   "metadata": {
    "papermill": {
     "duration": 0.004774,
     "end_time": "2022-10-20T11:40:47.326553",
     "exception": false,
     "start_time": "2022-10-20T11:40:47.321779",
     "status": "completed"
    },
    "tags": []
   },
   "source": [
    "The code cell below fetches the `comments` table from the `hacker_news` dataset.  We also preview the first five rows of the table."
   ]
  },
  {
   "cell_type": "code",
   "execution_count": 2,
   "id": "be2e25f6",
   "metadata": {
    "execution": {
     "iopub.execute_input": "2022-10-20T11:40:47.338091Z",
     "iopub.status.busy": "2022-10-20T11:40:47.337435Z",
     "iopub.status.idle": "2022-10-20T11:40:48.646149Z",
     "shell.execute_reply": "2022-10-20T11:40:48.645329Z"
    },
    "papermill": {
     "duration": 1.317047,
     "end_time": "2022-10-20T11:40:48.648356",
     "exception": false,
     "start_time": "2022-10-20T11:40:47.331309",
     "status": "completed"
    },
    "tags": []
   },
   "outputs": [
    {
     "name": "stdout",
     "output_type": "stream",
     "text": [
      "Using Kaggle's public dataset BigQuery integration.\n"
     ]
    },
    {
     "name": "stderr",
     "output_type": "stream",
     "text": [
      "/opt/conda/lib/python3.7/site-packages/ipykernel_launcher.py:19: UserWarning: Cannot use bqstorage_client if max_results is set, reverting to fetching data with the tabledata.list endpoint.\n"
     ]
    },
    {
     "data": {
      "text/html": [
       "<div>\n",
       "<style scoped>\n",
       "    .dataframe tbody tr th:only-of-type {\n",
       "        vertical-align: middle;\n",
       "    }\n",
       "\n",
       "    .dataframe tbody tr th {\n",
       "        vertical-align: top;\n",
       "    }\n",
       "\n",
       "    .dataframe thead th {\n",
       "        text-align: right;\n",
       "    }\n",
       "</style>\n",
       "<table border=\"1\" class=\"dataframe\">\n",
       "  <thead>\n",
       "    <tr style=\"text-align: right;\">\n",
       "      <th></th>\n",
       "      <th>id</th>\n",
       "      <th>by</th>\n",
       "      <th>author</th>\n",
       "      <th>time</th>\n",
       "      <th>time_ts</th>\n",
       "      <th>text</th>\n",
       "      <th>parent</th>\n",
       "      <th>deleted</th>\n",
       "      <th>dead</th>\n",
       "      <th>ranking</th>\n",
       "    </tr>\n",
       "  </thead>\n",
       "  <tbody>\n",
       "    <tr>\n",
       "      <th>0</th>\n",
       "      <td>9734136</td>\n",
       "      <td>None</td>\n",
       "      <td>None</td>\n",
       "      <td>1434565400</td>\n",
       "      <td>2015-06-17 18:23:20+00:00</td>\n",
       "      <td>None</td>\n",
       "      <td>9733698</td>\n",
       "      <td>True</td>\n",
       "      <td>None</td>\n",
       "      <td>0</td>\n",
       "    </tr>\n",
       "    <tr>\n",
       "      <th>1</th>\n",
       "      <td>4921158</td>\n",
       "      <td>None</td>\n",
       "      <td>None</td>\n",
       "      <td>1355496966</td>\n",
       "      <td>2012-12-14 14:56:06+00:00</td>\n",
       "      <td>None</td>\n",
       "      <td>4921100</td>\n",
       "      <td>True</td>\n",
       "      <td>None</td>\n",
       "      <td>0</td>\n",
       "    </tr>\n",
       "    <tr>\n",
       "      <th>2</th>\n",
       "      <td>7500568</td>\n",
       "      <td>None</td>\n",
       "      <td>None</td>\n",
       "      <td>1396261158</td>\n",
       "      <td>2014-03-31 10:19:18+00:00</td>\n",
       "      <td>None</td>\n",
       "      <td>7499385</td>\n",
       "      <td>True</td>\n",
       "      <td>None</td>\n",
       "      <td>0</td>\n",
       "    </tr>\n",
       "    <tr>\n",
       "      <th>3</th>\n",
       "      <td>8909635</td>\n",
       "      <td>None</td>\n",
       "      <td>None</td>\n",
       "      <td>1421627275</td>\n",
       "      <td>2015-01-19 00:27:55+00:00</td>\n",
       "      <td>None</td>\n",
       "      <td>8901135</td>\n",
       "      <td>True</td>\n",
       "      <td>None</td>\n",
       "      <td>0</td>\n",
       "    </tr>\n",
       "    <tr>\n",
       "      <th>4</th>\n",
       "      <td>9256463</td>\n",
       "      <td>None</td>\n",
       "      <td>None</td>\n",
       "      <td>1427204705</td>\n",
       "      <td>2015-03-24 13:45:05+00:00</td>\n",
       "      <td>None</td>\n",
       "      <td>9256346</td>\n",
       "      <td>True</td>\n",
       "      <td>None</td>\n",
       "      <td>0</td>\n",
       "    </tr>\n",
       "  </tbody>\n",
       "</table>\n",
       "</div>"
      ],
      "text/plain": [
       "        id    by author        time                   time_ts  text   parent  \\\n",
       "0  9734136  None   None  1434565400 2015-06-17 18:23:20+00:00  None  9733698   \n",
       "1  4921158  None   None  1355496966 2012-12-14 14:56:06+00:00  None  4921100   \n",
       "2  7500568  None   None  1396261158 2014-03-31 10:19:18+00:00  None  7499385   \n",
       "3  8909635  None   None  1421627275 2015-01-19 00:27:55+00:00  None  8901135   \n",
       "4  9256463  None   None  1427204705 2015-03-24 13:45:05+00:00  None  9256346   \n",
       "\n",
       "   deleted  dead  ranking  \n",
       "0     True  None        0  \n",
       "1     True  None        0  \n",
       "2     True  None        0  \n",
       "3     True  None        0  \n",
       "4     True  None        0  "
      ]
     },
     "execution_count": 2,
     "metadata": {},
     "output_type": "execute_result"
    }
   ],
   "source": [
    "from google.cloud import bigquery\n",
    "\n",
    "# Create a \"Client\" object\n",
    "client = bigquery.Client()\n",
    "\n",
    "# Construct a reference to the \"hacker_news\" dataset\n",
    "dataset_ref = client.dataset(\"hacker_news\", project=\"bigquery-public-data\")\n",
    "\n",
    "# API request - fetch the dataset\n",
    "dataset = client.get_dataset(dataset_ref)\n",
    "\n",
    "# Construct a reference to the \"comments\" table\n",
    "table_ref = dataset_ref.table(\"comments\")\n",
    "\n",
    "# API request - fetch the table\n",
    "table = client.get_table(table_ref)\n",
    "\n",
    "# Preview the first five lines of the \"comments\" table\n",
    "client.list_rows(table, max_results=5).to_dataframe()"
   ]
  },
  {
   "cell_type": "code",
   "execution_count": 3,
   "id": "123d0b38",
   "metadata": {
    "execution": {
     "iopub.execute_input": "2022-10-20T11:40:48.660653Z",
     "iopub.status.busy": "2022-10-20T11:40:48.660160Z",
     "iopub.status.idle": "2022-10-20T11:40:48.667433Z",
     "shell.execute_reply": "2022-10-20T11:40:48.666311Z"
    },
    "papermill": {
     "duration": 0.016102,
     "end_time": "2022-10-20T11:40:48.669713",
     "exception": false,
     "start_time": "2022-10-20T11:40:48.653611",
     "status": "completed"
    },
    "tags": []
   },
   "outputs": [
    {
     "data": {
      "text/plain": [
       "[SchemaField('id', 'INTEGER', 'NULLABLE', 'Unique comment ID', (), None),\n",
       " SchemaField('by', 'STRING', 'NULLABLE', 'Username of commenter', (), None),\n",
       " SchemaField('author', 'STRING', 'NULLABLE', 'Username of author', (), None),\n",
       " SchemaField('time', 'INTEGER', 'NULLABLE', 'Unix time', (), None),\n",
       " SchemaField('time_ts', 'TIMESTAMP', 'NULLABLE', 'Human readable time in UTC (format: YYYY-MM-DD hh:mm:ss)', (), None),\n",
       " SchemaField('text', 'STRING', 'NULLABLE', 'Comment text', (), None),\n",
       " SchemaField('parent', 'INTEGER', 'NULLABLE', 'Parent comment ID', (), None),\n",
       " SchemaField('deleted', 'BOOLEAN', 'NULLABLE', 'Is deleted?', (), None),\n",
       " SchemaField('dead', 'BOOLEAN', 'NULLABLE', 'Is dead?', (), None),\n",
       " SchemaField('ranking', 'INTEGER', 'NULLABLE', 'Comment ranking', (), None)]"
      ]
     },
     "execution_count": 3,
     "metadata": {},
     "output_type": "execute_result"
    }
   ],
   "source": [
    "table.schema"
   ]
  },
  {
   "cell_type": "markdown",
   "id": "206bf352",
   "metadata": {
    "papermill": {
     "duration": 0.004874,
     "end_time": "2022-10-20T11:40:48.679996",
     "exception": false,
     "start_time": "2022-10-20T11:40:48.675122",
     "status": "completed"
    },
    "tags": []
   },
   "source": [
    "# Exercises\n",
    "\n",
    "### 1) Prolific commenters\n",
    "\n",
    "Hacker News would like to send awards to everyone who has written more than 10,000 posts. Write a query that returns all authors with more than 10,000 posts as well as their post counts. Call the column with post counts `NumPosts`.\n",
    "\n",
    "In case sample query is helpful, here is a query you saw in the tutorial to answer a similar question:\n",
    "```\n",
    "query = \"\"\"\n",
    "        SELECT parent, COUNT(1) AS NumPosts\n",
    "        FROM `bigquery-public-data.hacker_news.comments`\n",
    "        GROUP BY parent\n",
    "        HAVING COUNT(1) > 10\n",
    "        \"\"\"\n",
    "```"
   ]
  },
  {
   "cell_type": "code",
   "execution_count": 4,
   "id": "78dac2cb",
   "metadata": {
    "execution": {
     "iopub.execute_input": "2022-10-20T11:40:48.692756Z",
     "iopub.status.busy": "2022-10-20T11:40:48.691571Z",
     "iopub.status.idle": "2022-10-20T11:40:49.843060Z",
     "shell.execute_reply": "2022-10-20T11:40:49.841922Z"
    },
    "papermill": {
     "duration": 1.160131,
     "end_time": "2022-10-20T11:40:49.845277",
     "exception": false,
     "start_time": "2022-10-20T11:40:48.685146",
     "status": "completed"
    },
    "tags": []
   },
   "outputs": [
    {
     "name": "stderr",
     "output_type": "stream",
     "text": [
      "/opt/conda/lib/python3.7/site-packages/google/cloud/bigquery/client.py:440: UserWarning: Cannot create BigQuery Storage client, the dependency google-cloud-bigquery-storage is not installed.\n",
      "  \"Cannot create BigQuery Storage client, the dependency \"\n"
     ]
    },
    {
     "data": {
      "text/html": [
       "<div>\n",
       "<style scoped>\n",
       "    .dataframe tbody tr th:only-of-type {\n",
       "        vertical-align: middle;\n",
       "    }\n",
       "\n",
       "    .dataframe tbody tr th {\n",
       "        vertical-align: top;\n",
       "    }\n",
       "\n",
       "    .dataframe thead th {\n",
       "        text-align: right;\n",
       "    }\n",
       "</style>\n",
       "<table border=\"1\" class=\"dataframe\">\n",
       "  <thead>\n",
       "    <tr style=\"text-align: right;\">\n",
       "      <th></th>\n",
       "      <th>author</th>\n",
       "      <th>NumPosts</th>\n",
       "    </tr>\n",
       "  </thead>\n",
       "  <tbody>\n",
       "    <tr>\n",
       "      <th>0</th>\n",
       "      <td>DanBC</td>\n",
       "      <td>12902</td>\n",
       "    </tr>\n",
       "    <tr>\n",
       "      <th>1</th>\n",
       "      <td>sp332</td>\n",
       "      <td>10882</td>\n",
       "    </tr>\n",
       "    <tr>\n",
       "      <th>2</th>\n",
       "      <td>davidw</td>\n",
       "      <td>10764</td>\n",
       "    </tr>\n",
       "    <tr>\n",
       "      <th>3</th>\n",
       "      <td>rayiner</td>\n",
       "      <td>11080</td>\n",
       "    </tr>\n",
       "    <tr>\n",
       "      <th>4</th>\n",
       "      <td>tptacek</td>\n",
       "      <td>33839</td>\n",
       "    </tr>\n",
       "  </tbody>\n",
       "</table>\n",
       "</div>"
      ],
      "text/plain": [
       "    author  NumPosts\n",
       "0    DanBC     12902\n",
       "1    sp332     10882\n",
       "2   davidw     10764\n",
       "3  rayiner     11080\n",
       "4  tptacek     33839"
      ]
     },
     "metadata": {},
     "output_type": "display_data"
    },
    {
     "name": "stdout",
     "output_type": "stream",
     "text": [
      "\n",
      "13\n"
     ]
    },
    {
     "data": {
      "application/javascript": [
       "parent.postMessage({\"jupyterEvent\": \"custom.exercise_interaction\", \"data\": {\"outcomeType\": 1, \"valueTowardsCompletion\": 0.5, \"interactionType\": 1, \"questionType\": 2, \"questionId\": \"1_ProlificCommenters\", \"learnToolsVersion\": \"0.3.4\", \"failureMessage\": \"\", \"exceptionClass\": \"\", \"trace\": \"\"}}, \"*\")"
      ],
      "text/plain": [
       "<IPython.core.display.Javascript object>"
      ]
     },
     "metadata": {},
     "output_type": "display_data"
    },
    {
     "data": {
      "text/markdown": [
       "<span style=\"color:#33cc33\">Correct</span>"
      ],
      "text/plain": [
       "Correct"
      ]
     },
     "metadata": {},
     "output_type": "display_data"
    }
   ],
   "source": [
    "# Query to select prolific commenters and post counts\n",
    "prolific_commenters_query = \"\"\"\n",
    "        SELECT author, COUNT(1) AS NumPosts\n",
    "        FROM `bigquery-public-data.hacker_news.comments`\n",
    "        GROUP BY author\n",
    "        HAVING COUNT(1) > 10000\n",
    "        \"\"\" # Your code goes here\n",
    "\n",
    "# Set up the query (cancel the query if it would use too much of \n",
    "# your quota, with the limit set to 1 GB)\n",
    "safe_config = bigquery.QueryJobConfig(maximum_bytes_billed=10**10)\n",
    "query_job = client.query(prolific_commenters_query, job_config=safe_config)\n",
    "\n",
    "# API request - run the query, and return a pandas DataFrame\n",
    "prolific_commenters = query_job.to_dataframe()\n",
    "\n",
    "# View top few rows of results\n",
    "display(prolific_commenters.head())\n",
    "print(f'\\n{len(prolific_commenters)}')\n",
    "\n",
    "# Check your answer\n",
    "q_1.check()"
   ]
  },
  {
   "cell_type": "markdown",
   "id": "62297b01",
   "metadata": {
    "papermill": {
     "duration": 0.00594,
     "end_time": "2022-10-20T11:40:49.857261",
     "exception": false,
     "start_time": "2022-10-20T11:40:49.851321",
     "status": "completed"
    },
    "tags": []
   },
   "source": [
    "For the solution, uncomment the line below."
   ]
  },
  {
   "cell_type": "code",
   "execution_count": 5,
   "id": "e56f1e28",
   "metadata": {
    "execution": {
     "iopub.execute_input": "2022-10-20T11:40:49.870744Z",
     "iopub.status.busy": "2022-10-20T11:40:49.870104Z",
     "iopub.status.idle": "2022-10-20T11:40:49.874282Z",
     "shell.execute_reply": "2022-10-20T11:40:49.873073Z"
    },
    "papermill": {
     "duration": 0.013511,
     "end_time": "2022-10-20T11:40:49.876485",
     "exception": false,
     "start_time": "2022-10-20T11:40:49.862974",
     "status": "completed"
    },
    "tags": []
   },
   "outputs": [],
   "source": [
    "# q_1.solution()"
   ]
  },
  {
   "cell_type": "markdown",
   "id": "0cafef8d",
   "metadata": {
    "papermill": {
     "duration": 0.005282,
     "end_time": "2022-10-20T11:40:49.887440",
     "exception": false,
     "start_time": "2022-10-20T11:40:49.882158",
     "status": "completed"
    },
    "tags": []
   },
   "source": [
    "Now that our query is ready, let's run it and store the results in a pandas DataFrame:\n",
    "\n"
   ]
  },
  {
   "cell_type": "markdown",
   "id": "3aa0c141",
   "metadata": {
    "papermill": {
     "duration": 0.00624,
     "end_time": "2022-10-20T11:40:49.899151",
     "exception": false,
     "start_time": "2022-10-20T11:40:49.892911",
     "status": "completed"
    },
    "tags": []
   },
   "source": [
    "### 2) Deleted comments\n",
    "\n",
    "How many comments have been deleted? (If a comment was deleted, the `deleted` column in the comments table will have the value `True`.)"
   ]
  },
  {
   "cell_type": "code",
   "execution_count": 6,
   "id": "509954eb",
   "metadata": {
    "execution": {
     "iopub.execute_input": "2022-10-20T11:40:49.912272Z",
     "iopub.status.busy": "2022-10-20T11:40:49.911574Z",
     "iopub.status.idle": "2022-10-20T11:40:51.304999Z",
     "shell.execute_reply": "2022-10-20T11:40:51.303779Z"
    },
    "papermill": {
     "duration": 1.40266,
     "end_time": "2022-10-20T11:40:51.307253",
     "exception": false,
     "start_time": "2022-10-20T11:40:49.904593",
     "status": "completed"
    },
    "tags": []
   },
   "outputs": [
    {
     "name": "stderr",
     "output_type": "stream",
     "text": [
      "/opt/conda/lib/python3.7/site-packages/google/cloud/bigquery/client.py:440: UserWarning: Cannot create BigQuery Storage client, the dependency google-cloud-bigquery-storage is not installed.\n",
      "  \"Cannot create BigQuery Storage client, the dependency \"\n"
     ]
    },
    {
     "name": "stdout",
     "output_type": "stream",
     "text": [
      "   num_deleted_posts\n",
      "0             227736\n"
     ]
    },
    {
     "data": {
      "application/javascript": [
       "parent.postMessage({\"jupyterEvent\": \"custom.exercise_interaction\", \"data\": {\"outcomeType\": 1, \"valueTowardsCompletion\": 0.5, \"interactionType\": 1, \"questionType\": 1, \"questionId\": \"2_NumDeletedPosts\", \"learnToolsVersion\": \"0.3.4\", \"failureMessage\": \"\", \"exceptionClass\": \"\", \"trace\": \"\"}}, \"*\")"
      ],
      "text/plain": [
       "<IPython.core.display.Javascript object>"
      ]
     },
     "metadata": {},
     "output_type": "display_data"
    },
    {
     "data": {
      "text/markdown": [
       "<span style=\"color:#33cc33\">Correct</span>"
      ],
      "text/plain": [
       "Correct"
      ]
     },
     "metadata": {},
     "output_type": "display_data"
    }
   ],
   "source": [
    "# Write your query here and figure out the answer\n",
    "# Query to select prolific commenters and post counts\n",
    "deleted_posts_query = \"\"\"\n",
    "        SELECT COUNT(1) AS num_deleted_posts\n",
    "        FROM `bigquery-public-data.hacker_news.comments`\n",
    "        WHERE deleted = True\n",
    "        \"\"\" # Your code goes here\n",
    "    \n",
    "    \n",
    "# Set up the query\n",
    "query_job = client.query(deleted_posts_query)\n",
    "\n",
    "# API request - run the query, and return a pandas DataFrame\n",
    "deleted_posts = query_job.to_dataframe()\n",
    "\n",
    "# View results\n",
    "print(deleted_posts)\n",
    "\n",
    "num_deleted_posts = deleted_posts['num_deleted_posts'][0] # Put your answer here\n",
    "\n",
    "# Check your answer\n",
    "q_2.check()"
   ]
  },
  {
   "cell_type": "markdown",
   "id": "f479b44b",
   "metadata": {
    "papermill": {
     "duration": 0.005653,
     "end_time": "2022-10-20T11:40:51.318813",
     "exception": false,
     "start_time": "2022-10-20T11:40:51.313160",
     "status": "completed"
    },
    "tags": []
   },
   "source": [
    "For the solution, uncomment the line below."
   ]
  },
  {
   "cell_type": "code",
   "execution_count": 7,
   "id": "91f08201",
   "metadata": {
    "execution": {
     "iopub.execute_input": "2022-10-20T11:40:51.332291Z",
     "iopub.status.busy": "2022-10-20T11:40:51.331890Z",
     "iopub.status.idle": "2022-10-20T11:40:51.336798Z",
     "shell.execute_reply": "2022-10-20T11:40:51.335793Z"
    },
    "papermill": {
     "duration": 0.014447,
     "end_time": "2022-10-20T11:40:51.339085",
     "exception": false,
     "start_time": "2022-10-20T11:40:51.324638",
     "status": "completed"
    },
    "tags": []
   },
   "outputs": [],
   "source": [
    "# q_2.solution()"
   ]
  },
  {
   "cell_type": "markdown",
   "id": "98c3df4c",
   "metadata": {
    "papermill": {
     "duration": 0.00572,
     "end_time": "2022-10-20T11:40:51.350809",
     "exception": false,
     "start_time": "2022-10-20T11:40:51.345089",
     "status": "completed"
    },
    "tags": []
   },
   "source": [
    "# Keep Going\n",
    "**[Click here](https://www.kaggle.com/dansbecker/order-by)** to move on and learn about the **ORDER BY** clause."
   ]
  },
  {
   "cell_type": "markdown",
   "id": "b0e66406",
   "metadata": {
    "papermill": {
     "duration": 0.005543,
     "end_time": "2022-10-20T11:40:51.362216",
     "exception": false,
     "start_time": "2022-10-20T11:40:51.356673",
     "status": "completed"
    },
    "tags": []
   },
   "source": [
    "---\n",
    "\n",
    "\n",
    "\n",
    "\n",
    "*Have questions or comments? Visit the [course discussion forum](https://www.kaggle.com/learn/intro-to-sql/discussion) to chat with other learners.*"
   ]
  }
 ],
 "metadata": {
  "kernelspec": {
   "display_name": "Python 3",
   "language": "python",
   "name": "python3"
  },
  "language_info": {
   "codemirror_mode": {
    "name": "ipython",
    "version": 3
   },
   "file_extension": ".py",
   "mimetype": "text/x-python",
   "name": "python",
   "nbconvert_exporter": "python",
   "pygments_lexer": "ipython3",
   "version": "3.7.12"
  },
  "papermill": {
   "default_parameters": {},
   "duration": 16.427548,
   "end_time": "2022-10-20T11:40:51.988547",
   "environment_variables": {},
   "exception": null,
   "input_path": "__notebook__.ipynb",
   "output_path": "__notebook__.ipynb",
   "parameters": {},
   "start_time": "2022-10-20T11:40:35.560999",
   "version": "2.3.4"
  }
 },
 "nbformat": 4,
 "nbformat_minor": 5
}
