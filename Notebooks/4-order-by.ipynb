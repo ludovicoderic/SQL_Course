{
 "cells": [
  {
   "cell_type": "markdown",
   "id": "61310ccb",
   "metadata": {
    "papermill": {
     "duration": 0.005099,
     "end_time": "2022-10-19T19:50:44.700192",
     "exception": false,
     "start_time": "2022-10-19T19:50:44.695093",
     "status": "completed"
    },
    "tags": []
   },
   "source": [
    "**This notebook is an exercise in the [SQL](https://www.kaggle.com/learn/intro-to-sql) course.  You can reference the tutorial at [this link](https://www.kaggle.com/dansbecker/order-by).**\n",
    "\n",
    "---\n"
   ]
  },
  {
   "cell_type": "markdown",
   "id": "7f7d8832",
   "metadata": {
    "papermill": {
     "duration": 0.003667,
     "end_time": "2022-10-19T19:50:44.708008",
     "exception": false,
     "start_time": "2022-10-19T19:50:44.704341",
     "status": "completed"
    },
    "tags": []
   },
   "source": [
    "So far, you've learned how to use several SQL clauses. For instance, you know how to use SELECT to pull specific columns from a table, along with WHERE to pull rows that meet specified criteria. You also know how to use aggregate functions like COUNT(), along with GROUP BY to treat multiple rows as a single group.\n",
    "\n",
    "Now you'll learn how to change the order of your results using the ORDER BY clause, and you'll explore a popular use case by applying ordering to dates. To illustrate what you'll learn in this tutorial, we'll work with a slightly modified version of our familiar pets table.\n",
    "\n",
    "### ORDER BY\n",
    "ORDER BY is usually the last clause in your query, and it sorts the results returned by the rest of your query.\n",
    "\n",
    "Notice that the rows are not ordered by the ID column. We can quickly remedy this with the query below.\n",
    "\n",
    "\n",
    "The ORDER BY clause also works for columns containing text, where the results show up in alphabetical order.\n",
    "\n",
    "\n",
    "You can reverse the order using the DESC argument (short for 'descending'). The next query sorts the table by the Animal column, where the values that are last in alphabetic order are returned first.\n",
    "\n",
    "### Dates\n",
    "Next, we'll talk about dates, because they come up very frequently in real-world databases. There are two ways that dates can be stored in BigQuery: as a DATE or as a DATETIME.\n",
    "\n",
    "The DATE format has the year first, then the month, and then the day. It looks like this:\n",
    "\n",
    "```YYYY-[M]M-[D]D```\n",
    "- YYYY: Four-digit year\n",
    "- [M]M: One or two digit month\n",
    "- [D]D: One or two digit day\n",
    "So 2019-01-10 is interpreted as January 10, 2019.\n",
    "\n",
    "The DATETIME format is like the date format ... but with time added at the end.\n",
    "\n",
    "### EXTRACT\n",
    "Often you'll want to look at part of a date, like the year or the day. You can do this with EXTRACT. We'll illustrate this with a slightly different table, called pets_with_date.\n",
    "\n",
    "The query below returns two columns, where column Day contains the day corresponding to each entry the Date column from the pets_with_date table:\n",
    "\n",
    "\n",
    "SQL is very smart about dates, and we can ask for information beyond just extracting part of the cell. For example, this query returns one column with just the week in the year (between 1 and 53) for each date in the Date column:\n",
    "\n",
    "\n",
    "You can find all the functions you can use with dates in BigQuery in this documentation under \"Date and time functions\".\n",
    "\n",
    "we can:\n",
    "\n",
    "- EXTRACT the day of the week (as day_of_week in the query below) from the timestamp_of_crash column, and\n",
    "- GROUP BY the day of the week, before we COUNT the consecutive_number column to determine the number of accidents for each day of the week.\n",
    "\n",
    "Then we sort the table with an ORDER BY clause, so the days with the most accidents are returned first.\n",
    "\n",
    "```\n",
    "# Query to find out the number of accidents for each day of the week\n",
    "query = \"\"\"\n",
    "        SELECT COUNT(consecutive_number) AS num_accidents, \n",
    "               EXTRACT(DAYOFWEEK FROM timestamp_of_crash) AS day_of_week\n",
    "        FROM `bigquery-public-data.nhtsa_traffic_fatalities.accident_2015`\n",
    "        GROUP BY day_of_week\n",
    "        ORDER BY num_accidents DESC\n",
    "        \"\"\"\n",
    "```"
   ]
  },
  {
   "cell_type": "markdown",
   "id": "e9c715fa",
   "metadata": {
    "papermill": {
     "duration": 0.003647,
     "end_time": "2022-10-19T19:50:44.715556",
     "exception": false,
     "start_time": "2022-10-19T19:50:44.711909",
     "status": "completed"
    },
    "tags": []
   },
   "source": [
    "# Introduction\n",
    "\n",
    "You've built up your SQL skills enough that the remaining hands-on exercises will use different datasets than you see in the explanations. If you need to get to know a new dataset, you can run a couple of **SELECT** queries to extract and review the data you need. \n",
    "\n",
    "The next exercises are also more challenging than what you've done so far. Don't worry, you are ready for it!\n",
    "\n",
    "Run the code in the following cell to get everything set up:"
   ]
  },
  {
   "cell_type": "code",
   "execution_count": 1,
   "id": "e039caab",
   "metadata": {
    "execution": {
     "iopub.execute_input": "2022-10-19T19:50:44.725794Z",
     "iopub.status.busy": "2022-10-19T19:50:44.725027Z",
     "iopub.status.idle": "2022-10-19T19:50:47.481245Z",
     "shell.execute_reply": "2022-10-19T19:50:47.479758Z"
    },
    "papermill": {
     "duration": 2.764845,
     "end_time": "2022-10-19T19:50:47.484240",
     "exception": false,
     "start_time": "2022-10-19T19:50:44.719395",
     "status": "completed"
    },
    "tags": []
   },
   "outputs": [
    {
     "name": "stdout",
     "output_type": "stream",
     "text": [
      "Using Kaggle's public dataset BigQuery integration.\n"
     ]
    },
    {
     "name": "stderr",
     "output_type": "stream",
     "text": [
      "/opt/conda/lib/python3.7/site-packages/google/cloud/bigquery/client.py:440: UserWarning: Cannot create BigQuery Storage client, the dependency google-cloud-bigquery-storage is not installed.\n",
      "  \"Cannot create BigQuery Storage client, the dependency \"\n"
     ]
    },
    {
     "name": "stdout",
     "output_type": "stream",
     "text": [
      "Setup Complete\n"
     ]
    }
   ],
   "source": [
    "# Set up feedback system\n",
    "from learntools.core import binder\n",
    "binder.bind(globals())\n",
    "from learntools.sql.ex4 import *\n",
    "print(\"Setup Complete\")"
   ]
  },
  {
   "cell_type": "markdown",
   "id": "384288cd",
   "metadata": {
    "papermill": {
     "duration": 0.004071,
     "end_time": "2022-10-19T19:50:47.492897",
     "exception": false,
     "start_time": "2022-10-19T19:50:47.488826",
     "status": "completed"
    },
    "tags": []
   },
   "source": [
    "The World Bank has made tons of interesting education data available through BigQuery. Run the following cell to see the first few rows of the `international_education` table from the `world_bank_intl_education` dataset."
   ]
  },
  {
   "cell_type": "code",
   "execution_count": 2,
   "id": "bf027d9d",
   "metadata": {
    "execution": {
     "iopub.execute_input": "2022-10-19T19:50:47.503407Z",
     "iopub.status.busy": "2022-10-19T19:50:47.502676Z",
     "iopub.status.idle": "2022-10-19T19:50:48.788480Z",
     "shell.execute_reply": "2022-10-19T19:50:48.787341Z"
    },
    "papermill": {
     "duration": 1.293959,
     "end_time": "2022-10-19T19:50:48.791086",
     "exception": false,
     "start_time": "2022-10-19T19:50:47.497127",
     "status": "completed"
    },
    "tags": []
   },
   "outputs": [
    {
     "name": "stdout",
     "output_type": "stream",
     "text": [
      "Using Kaggle's public dataset BigQuery integration.\n"
     ]
    },
    {
     "name": "stderr",
     "output_type": "stream",
     "text": [
      "/opt/conda/lib/python3.7/site-packages/ipykernel_launcher.py:19: UserWarning: Cannot use bqstorage_client if max_results is set, reverting to fetching data with the tabledata.list endpoint.\n"
     ]
    },
    {
     "data": {
      "text/html": [
       "<div>\n",
       "<style scoped>\n",
       "    .dataframe tbody tr th:only-of-type {\n",
       "        vertical-align: middle;\n",
       "    }\n",
       "\n",
       "    .dataframe tbody tr th {\n",
       "        vertical-align: top;\n",
       "    }\n",
       "\n",
       "    .dataframe thead th {\n",
       "        text-align: right;\n",
       "    }\n",
       "</style>\n",
       "<table border=\"1\" class=\"dataframe\">\n",
       "  <thead>\n",
       "    <tr style=\"text-align: right;\">\n",
       "      <th></th>\n",
       "      <th>country_name</th>\n",
       "      <th>country_code</th>\n",
       "      <th>indicator_name</th>\n",
       "      <th>indicator_code</th>\n",
       "      <th>value</th>\n",
       "      <th>year</th>\n",
       "    </tr>\n",
       "  </thead>\n",
       "  <tbody>\n",
       "    <tr>\n",
       "      <th>0</th>\n",
       "      <td>Chad</td>\n",
       "      <td>TCD</td>\n",
       "      <td>Enrolment in lower secondary education, both s...</td>\n",
       "      <td>UIS.E.2</td>\n",
       "      <td>92857.0</td>\n",
       "      <td>1999</td>\n",
       "    </tr>\n",
       "    <tr>\n",
       "      <th>1</th>\n",
       "      <td>Chad</td>\n",
       "      <td>TCD</td>\n",
       "      <td>Enrolment in lower secondary education, both s...</td>\n",
       "      <td>UIS.E.2</td>\n",
       "      <td>135079.0</td>\n",
       "      <td>2002</td>\n",
       "    </tr>\n",
       "    <tr>\n",
       "      <th>2</th>\n",
       "      <td>Chad</td>\n",
       "      <td>TCD</td>\n",
       "      <td>Enrolment in lower secondary education, both s...</td>\n",
       "      <td>UIS.E.2</td>\n",
       "      <td>158735.0</td>\n",
       "      <td>2003</td>\n",
       "    </tr>\n",
       "    <tr>\n",
       "      <th>3</th>\n",
       "      <td>Chad</td>\n",
       "      <td>TCD</td>\n",
       "      <td>Enrolment in lower secondary education, both s...</td>\n",
       "      <td>UIS.E.2</td>\n",
       "      <td>306639.0</td>\n",
       "      <td>2010</td>\n",
       "    </tr>\n",
       "    <tr>\n",
       "      <th>4</th>\n",
       "      <td>Chad</td>\n",
       "      <td>TCD</td>\n",
       "      <td>Enrolment in lower secondary education, both s...</td>\n",
       "      <td>UIS.E.2</td>\n",
       "      <td>317174.0</td>\n",
       "      <td>2011</td>\n",
       "    </tr>\n",
       "  </tbody>\n",
       "</table>\n",
       "</div>"
      ],
      "text/plain": [
       "  country_name country_code  \\\n",
       "0         Chad          TCD   \n",
       "1         Chad          TCD   \n",
       "2         Chad          TCD   \n",
       "3         Chad          TCD   \n",
       "4         Chad          TCD   \n",
       "\n",
       "                                      indicator_name indicator_code     value  \\\n",
       "0  Enrolment in lower secondary education, both s...        UIS.E.2   92857.0   \n",
       "1  Enrolment in lower secondary education, both s...        UIS.E.2  135079.0   \n",
       "2  Enrolment in lower secondary education, both s...        UIS.E.2  158735.0   \n",
       "3  Enrolment in lower secondary education, both s...        UIS.E.2  306639.0   \n",
       "4  Enrolment in lower secondary education, both s...        UIS.E.2  317174.0   \n",
       "\n",
       "   year  \n",
       "0  1999  \n",
       "1  2002  \n",
       "2  2003  \n",
       "3  2010  \n",
       "4  2011  "
      ]
     },
     "execution_count": 2,
     "metadata": {},
     "output_type": "execute_result"
    }
   ],
   "source": [
    "from google.cloud import bigquery\n",
    "\n",
    "# Create a \"Client\" object\n",
    "client = bigquery.Client()\n",
    "\n",
    "# Construct a reference to the \"world_bank_intl_education\" dataset\n",
    "dataset_ref = client.dataset(\"world_bank_intl_education\", project=\"bigquery-public-data\")\n",
    "\n",
    "# API request - fetch the dataset\n",
    "dataset = client.get_dataset(dataset_ref)\n",
    "\n",
    "# Construct a reference to the \"international_education\" table\n",
    "table_ref = dataset_ref.table(\"international_education\")\n",
    "\n",
    "# API request - fetch the table\n",
    "table = client.get_table(table_ref)\n",
    "\n",
    "# Preview the first five lines of the \"international_education\" table\n",
    "client.list_rows(table, max_results=5).to_dataframe()"
   ]
  },
  {
   "cell_type": "markdown",
   "id": "d152d7ca",
   "metadata": {
    "papermill": {
     "duration": 0.004654,
     "end_time": "2022-10-19T19:50:48.801763",
     "exception": false,
     "start_time": "2022-10-19T19:50:48.797109",
     "status": "completed"
    },
    "tags": []
   },
   "source": [
    "# Exercises\n",
    "\n",
    "The value in the `indicator_code` column describes what type of data is shown in a given row.  \n",
    "\n",
    "One interesting indicator code is `SE.XPD.TOTL.GD.ZS`, which corresponds to \"Government expenditure on education as % of GDP (%)\".\n",
    "\n",
    "### 1) Government expenditure on education\n",
    "\n",
    "Which countries spend the largest fraction of GDP on education?  \n",
    "\n",
    "To answer this question, consider only the rows in the dataset corresponding to indicator code `SE.XPD.TOTL.GD.ZS`, and write a query that returns the average value in the `value` column for each country in the dataset between the years 2010-2017 (including 2010 and 2017 in the average). \n",
    "\n",
    "Requirements:\n",
    "- Your results should have the country name rather than the country code. You will have one row for each country.\n",
    "- The aggregate function for average is **AVG()**.  Use the name `avg_ed_spending_pct` for the column created by this aggregation.\n",
    "- Order the results so the countries that spend the largest fraction of GDP on education show up first.\n",
    "\n",
    "In case it's useful to see a sample query, here's a query you saw in the tutorial (using a different dataset):\n",
    "```\n",
    "# Query to find out the number of accidents for each day of the week\n",
    "query = \"\"\"\n",
    "        SELECT COUNT(consecutive_number) AS num_accidents, \n",
    "               EXTRACT(DAYOFWEEK FROM timestamp_of_crash) AS day_of_week\n",
    "        FROM `bigquery-public-data.nhtsa_traffic_fatalities.accident_2015`\n",
    "        GROUP BY day_of_week\n",
    "        ORDER BY num_accidents DESC\n",
    "        \"\"\"\n",
    "```"
   ]
  },
  {
   "cell_type": "code",
   "execution_count": 3,
   "id": "5e23b032",
   "metadata": {
    "execution": {
     "iopub.execute_input": "2022-10-19T19:50:48.814364Z",
     "iopub.status.busy": "2022-10-19T19:50:48.813585Z",
     "iopub.status.idle": "2022-10-19T19:50:50.171660Z",
     "shell.execute_reply": "2022-10-19T19:50:50.169799Z"
    },
    "papermill": {
     "duration": 1.367663,
     "end_time": "2022-10-19T19:50:50.174238",
     "exception": false,
     "start_time": "2022-10-19T19:50:48.806575",
     "status": "completed"
    },
    "tags": []
   },
   "outputs": [
    {
     "name": "stderr",
     "output_type": "stream",
     "text": [
      "/opt/conda/lib/python3.7/site-packages/google/cloud/bigquery/client.py:440: UserWarning: Cannot create BigQuery Storage client, the dependency google-cloud-bigquery-storage is not installed.\n",
      "  \"Cannot create BigQuery Storage client, the dependency \"\n"
     ]
    },
    {
     "name": "stdout",
     "output_type": "stream",
     "text": [
      "            country_name  avg_ed_spending_pct\n",
      "0                   Cuba            12.837270\n",
      "1  Micronesia, Fed. Sts.            12.467750\n",
      "2        Solomon Islands            10.001080\n",
      "3                Moldova             8.372153\n",
      "4                Namibia             8.349610\n"
     ]
    },
    {
     "data": {
      "application/javascript": [
       "parent.postMessage({\"jupyterEvent\": \"custom.exercise_interaction\", \"data\": {\"outcomeType\": 1, \"valueTowardsCompletion\": 0.5, \"interactionType\": 1, \"questionType\": 2, \"questionId\": \"1_EducationSpending\", \"learnToolsVersion\": \"0.3.4\", \"failureMessage\": \"\", \"exceptionClass\": \"\", \"trace\": \"\"}}, \"*\")"
      ],
      "text/plain": [
       "<IPython.core.display.Javascript object>"
      ]
     },
     "metadata": {},
     "output_type": "display_data"
    },
    {
     "data": {
      "text/markdown": [
       "<span style=\"color:#33cc33\">Correct</span>"
      ],
      "text/plain": [
       "Correct"
      ]
     },
     "metadata": {},
     "output_type": "display_data"
    }
   ],
   "source": [
    "# Your code goes here\n",
    "country_spend_pct_query = \"\"\"\n",
    "        SELECT country_name, AVG(value) AS avg_ed_spending_pct\n",
    "        FROM `bigquery-public-data.world_bank_intl_education.international_education`\n",
    "        WHERE indicator_code = 'SE.XPD.TOTL.GD.ZS' and year >= 2010 and year <= 2017\n",
    "        GROUP BY country_name\n",
    "        ORDER BY avg_ed_spending_pct DESC\n",
    "        \"\"\"\n",
    "\n",
    "# Set up the query (cancel the query if it would use too much of \n",
    "# your quota, with the limit set to 1 GB)\n",
    "safe_config = bigquery.QueryJobConfig(maximum_bytes_billed=10**10)\n",
    "country_spend_pct_query_job = client.query(country_spend_pct_query, job_config=safe_config)\n",
    "\n",
    "# API request - run the query, and return a pandas DataFrame\n",
    "country_spending_results = country_spend_pct_query_job.to_dataframe()\n",
    "\n",
    "# View top few rows of results\n",
    "print(country_spending_results.head())\n",
    "\n",
    "# Check your answer\n",
    "q_1.check()"
   ]
  },
  {
   "cell_type": "markdown",
   "id": "63062600",
   "metadata": {
    "papermill": {
     "duration": 0.004971,
     "end_time": "2022-10-19T19:50:50.186246",
     "exception": false,
     "start_time": "2022-10-19T19:50:50.181275",
     "status": "completed"
    },
    "tags": []
   },
   "source": [
    "For a hint or the solution, uncomment the appropriate line below."
   ]
  },
  {
   "cell_type": "code",
   "execution_count": 4,
   "id": "c2bd937f",
   "metadata": {
    "execution": {
     "iopub.execute_input": "2022-10-19T19:50:50.198758Z",
     "iopub.status.busy": "2022-10-19T19:50:50.197931Z",
     "iopub.status.idle": "2022-10-19T19:50:50.202370Z",
     "shell.execute_reply": "2022-10-19T19:50:50.201380Z"
    },
    "papermill": {
     "duration": 0.013338,
     "end_time": "2022-10-19T19:50:50.204766",
     "exception": false,
     "start_time": "2022-10-19T19:50:50.191428",
     "status": "completed"
    },
    "tags": []
   },
   "outputs": [],
   "source": [
    "# q_1.hint()\n",
    "# q_1.solution()"
   ]
  },
  {
   "cell_type": "markdown",
   "id": "0e194b64",
   "metadata": {
    "papermill": {
     "duration": 0.004936,
     "end_time": "2022-10-19T19:50:50.214893",
     "exception": false,
     "start_time": "2022-10-19T19:50:50.209957",
     "status": "completed"
    },
    "tags": []
   },
   "source": [
    "### 2) Identify interesting codes to explore\n",
    "\n",
    "The last question started by telling you to focus on rows with the code `SE.XPD.TOTL.GD.ZS`. But how would you find more interesting indicator codes to explore?\n",
    "\n",
    "There are 1000s of codes in the dataset, so it would be time consuming to review them all. But many codes are available for only a few countries. When browsing the options for different codes, you might restrict yourself to codes that are reported by many countries.\n",
    "\n",
    "Write a query below that selects the indicator code and indicator name for all codes with at least 175 rows in the year 2016.\n",
    "\n",
    "Requirements:\n",
    "- You should have one row for each indicator code.\n",
    "- The columns in your results should be called `indicator_code`, `indicator_name`, and `num_rows`.\n",
    "- Only select codes with 175 or more rows in the raw database (exactly 175 rows would be included).\n",
    "- To get both the `indicator_code` and `indicator_name` in your resulting DataFrame, you need to include both in your **SELECT** statement (in addition to a **COUNT()** aggregation). This requires you to include both in your **GROUP BY** clause.\n",
    "- Order from results most frequent to least frequent."
   ]
  },
  {
   "cell_type": "code",
   "execution_count": 5,
   "id": "ad7b80b8",
   "metadata": {
    "execution": {
     "iopub.execute_input": "2022-10-19T19:50:50.227503Z",
     "iopub.status.busy": "2022-10-19T19:50:50.227066Z",
     "iopub.status.idle": "2022-10-19T19:50:51.467086Z",
     "shell.execute_reply": "2022-10-19T19:50:51.465593Z"
    },
    "papermill": {
     "duration": 1.249453,
     "end_time": "2022-10-19T19:50:51.469498",
     "exception": false,
     "start_time": "2022-10-19T19:50:50.220045",
     "status": "completed"
    },
    "tags": []
   },
   "outputs": [
    {
     "name": "stderr",
     "output_type": "stream",
     "text": [
      "/opt/conda/lib/python3.7/site-packages/google/cloud/bigquery/client.py:440: UserWarning: Cannot create BigQuery Storage client, the dependency google-cloud-bigquery-storage is not installed.\n",
      "  \"Cannot create BigQuery Storage client, the dependency \"\n"
     ]
    },
    {
     "name": "stdout",
     "output_type": "stream",
     "text": [
      "      indicator_code                   indicator_name  num_rows\n",
      "0        SP.POP.TOTL                Population, total       232\n",
      "1        SP.POP.GROW     Population growth (annual %)       232\n",
      "2     IT.NET.USER.P2  Internet users (per 100 people)       223\n",
      "3  SP.POP.TOTL.FE.IN               Population, female       213\n",
      "4  SP.POP.TOTL.MA.ZS    Population, male (% of total)       213\n"
     ]
    },
    {
     "data": {
      "application/javascript": [
       "parent.postMessage({\"jupyterEvent\": \"custom.exercise_interaction\", \"data\": {\"outcomeType\": 1, \"valueTowardsCompletion\": 0.5, \"interactionType\": 1, \"questionType\": 2, \"questionId\": \"2_FindInterestingCodes\", \"learnToolsVersion\": \"0.3.4\", \"failureMessage\": \"\", \"exceptionClass\": \"\", \"trace\": \"\"}}, \"*\")"
      ],
      "text/plain": [
       "<IPython.core.display.Javascript object>"
      ]
     },
     "metadata": {},
     "output_type": "display_data"
    },
    {
     "data": {
      "text/markdown": [
       "<span style=\"color:#33cc33\">Correct</span>"
      ],
      "text/plain": [
       "Correct"
      ]
     },
     "metadata": {},
     "output_type": "display_data"
    }
   ],
   "source": [
    "# Your code goes here\n",
    "code_count_query = \"\"\"\n",
    "                   SELECT indicator_code, indicator_name, COUNT(1) AS num_rows\n",
    "                   FROM `bigquery-public-data.world_bank_intl_education.international_education`\n",
    "                   WHERE year = 2016\n",
    "                   GROUP BY indicator_name, indicator_code\n",
    "                   HAVING COUNT(1) >= 175\n",
    "                   ORDER BY COUNT(1) DESC\n",
    "                   \"\"\"\n",
    "# Set up the query\n",
    "safe_config = bigquery.QueryJobConfig(maximum_bytes_billed=10**10)\n",
    "code_count_query_job = client.query(code_count_query, job_config=safe_config)\n",
    "\n",
    "# API request - run the query, and return a pandas DataFrame\n",
    "code_count_results = code_count_query_job.to_dataframe()\n",
    "\n",
    "# View top few rows of results\n",
    "print(code_count_results.head())\n",
    "\n",
    "# Check your answer\n",
    "q_2.check()"
   ]
  },
  {
   "cell_type": "markdown",
   "id": "420f4633",
   "metadata": {
    "papermill": {
     "duration": 0.005014,
     "end_time": "2022-10-19T19:50:51.479733",
     "exception": false,
     "start_time": "2022-10-19T19:50:51.474719",
     "status": "completed"
    },
    "tags": []
   },
   "source": [
    "For a hint or the solution, uncomment the appropriate line below."
   ]
  },
  {
   "cell_type": "code",
   "execution_count": 6,
   "id": "87efd806",
   "metadata": {
    "execution": {
     "iopub.execute_input": "2022-10-19T19:50:51.491703Z",
     "iopub.status.busy": "2022-10-19T19:50:51.491277Z",
     "iopub.status.idle": "2022-10-19T19:50:51.496051Z",
     "shell.execute_reply": "2022-10-19T19:50:51.494906Z"
    },
    "papermill": {
     "duration": 0.013425,
     "end_time": "2022-10-19T19:50:51.498292",
     "exception": false,
     "start_time": "2022-10-19T19:50:51.484867",
     "status": "completed"
    },
    "tags": []
   },
   "outputs": [],
   "source": [
    "# q_2.hint()\n",
    "# q_2.solution()"
   ]
  },
  {
   "cell_type": "markdown",
   "id": "289cea47",
   "metadata": {
    "papermill": {
     "duration": 0.006,
     "end_time": "2022-10-19T19:50:51.509615",
     "exception": false,
     "start_time": "2022-10-19T19:50:51.503615",
     "status": "completed"
    },
    "tags": []
   },
   "source": [
    "# Keep Going\n",
    "**[Click here](https://www.kaggle.com/dansbecker/as-with)** to learn how to use **AS** and **WITH** to clean up your code and help you construct more complex queries."
   ]
  },
  {
   "cell_type": "markdown",
   "id": "9f998a29",
   "metadata": {
    "papermill": {
     "duration": 0.004879,
     "end_time": "2022-10-19T19:50:51.519632",
     "exception": false,
     "start_time": "2022-10-19T19:50:51.514753",
     "status": "completed"
    },
    "tags": []
   },
   "source": [
    "---\n",
    "\n",
    "\n",
    "\n",
    "\n",
    "*Have questions or comments? Visit the [course discussion forum](https://www.kaggle.com/learn/intro-to-sql/discussion) to chat with other learners.*"
   ]
  }
 ],
 "metadata": {
  "kernelspec": {
   "display_name": "Python 3",
   "language": "python",
   "name": "python3"
  },
  "language_info": {
   "codemirror_mode": {
    "name": "ipython",
    "version": 3
   },
   "file_extension": ".py",
   "mimetype": "text/x-python",
   "name": "python",
   "nbconvert_exporter": "python",
   "pygments_lexer": "ipython3",
   "version": "3.7.12"
  },
  "papermill": {
   "default_parameters": {},
   "duration": 16.977711,
   "end_time": "2022-10-19T19:50:52.247054",
   "environment_variables": {},
   "exception": null,
   "input_path": "__notebook__.ipynb",
   "output_path": "__notebook__.ipynb",
   "parameters": {},
   "start_time": "2022-10-19T19:50:35.269343",
   "version": "2.3.4"
  }
 },
 "nbformat": 4,
 "nbformat_minor": 5
}
